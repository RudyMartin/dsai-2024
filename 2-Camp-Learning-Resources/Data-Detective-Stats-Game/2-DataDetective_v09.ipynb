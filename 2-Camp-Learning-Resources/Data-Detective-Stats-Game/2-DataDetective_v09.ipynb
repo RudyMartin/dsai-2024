{
 "cells": [
  {
   "cell_type": "markdown",
   "id": "d8a98229-3692-4f3e-b0ba-5063495dea2d",
   "metadata": {},
   "source": [
    "# DataDetective v.09"
   ]
  },
  {
   "cell_type": "markdown",
   "id": "5be6bfc5-f35f-4ca7-b819-f2ca22a25a0e",
   "metadata": {},
   "source": [
    "### Objective\n",
    "Your goal is to guess a secret object chosen randomly from a list. You have a limited number of guesses to figure out what the object is.\n",
    "\n",
    "### Gameplay\n",
    "- You'll input your guesses through an interactive interface.\n",
    "- After each guess, you'll receive feedback on whether you were right or wrong.\n",
    "- If wrong, you're encouraged to try again until you either guess correctly or exhaust your attempts."
   ]
  },
  {
   "cell_type": "code",
   "execution_count": null,
   "id": "991d6a3c-f607-418f-8420-282f6396e50d",
   "metadata": {},
   "outputs": [],
   "source": [
    "## Student Todos\n",
    "# 1. File-based values. This version has a static list of game values. Replace with a list stored in a file in local directory. Objects/Probabilities/Payouts\n",
    "# 2. What happens if the file values are not present? Create a default set.\n",
    "# 3. Create a process to storing the users results.\n",
    "# 4. List the top ten results in a leaderboard.\n",
    "\n"
   ]
  },
  {
   "cell_type": "code",
   "execution_count": 2,
   "id": "efb699fc-21db-4e29-a566-8e98857164a3",
   "metadata": {},
   "outputs": [
    {
     "data": {
      "application/vnd.jupyter.widget-view+json": {
       "model_id": "9348bee22a724dfaa8d5df2010672a47",
       "version_major": 2,
       "version_minor": 0
      },
      "text/plain": [
       "Text(value='', description='Player Name:', placeholder='Enter your name here...')"
      ]
     },
     "metadata": {},
     "output_type": "display_data"
    },
    {
     "data": {
      "application/vnd.jupyter.widget-view+json": {
       "model_id": "0709d08433494b3687339923d22de878",
       "version_major": 2,
       "version_minor": 0
      },
      "text/plain": [
       "Dropdown(description='Guess:', options=('chalkboard or whiteboard', 'desks and chairs', 'textbooks', 'notebook…"
      ]
     },
     "metadata": {},
     "output_type": "display_data"
    },
    {
     "data": {
      "application/vnd.jupyter.widget-view+json": {
       "model_id": "54ad5bba6da54ad398d39796f7c5374c",
       "version_major": 2,
       "version_minor": 0
      },
      "text/plain": [
       "Dropdown(description='Wager:', options=(('$5.00 (max)', 5.0), ('$1.00', 1.0), ('$0.25', 0.25), ('$0.10', 0.1))…"
      ]
     },
     "metadata": {},
     "output_type": "display_data"
    },
    {
     "data": {
      "application/vnd.jupyter.widget-view+json": {
       "model_id": "e4136231655c4437b508d548ecacbaf1",
       "version_major": 2,
       "version_minor": 0
      },
      "text/plain": [
       "Button(description='Check Guess', style=ButtonStyle())"
      ]
     },
     "metadata": {},
     "output_type": "display_data"
    },
    {
     "data": {
      "application/vnd.jupyter.widget-view+json": {
       "model_id": "c113f6d87bf04ed7aa0be86cfaf26dce",
       "version_major": 2,
       "version_minor": 0
      },
      "text/plain": [
       "Output()"
      ]
     },
     "metadata": {},
     "output_type": "display_data"
    },
    {
     "data": {
      "application/vnd.jupyter.widget-view+json": {
       "model_id": "51b94b1e6b944735b2e0d1fde76254af",
       "version_major": 2,
       "version_minor": 0
      },
      "text/plain": [
       "Button(description='Retry', disabled=True, style=ButtonStyle())"
      ]
     },
     "metadata": {},
     "output_type": "display_data"
    }
   ],
   "source": [
    "import ipywidgets as widgets\n",
    "from IPython.display import display, clear_output\n",
    "from random import sample, choices\n",
    "import numpy as np\n",
    "\n",
    "class InteractiveGuessingGame:\n",
    "    def __init__(self):\n",
    "        self.objects = [\n",
    "            \"chalkboard or whiteboard\", \"desks and chairs\", \"textbooks\",\n",
    "            \"notebooks or writing pads\", \"pens and pencils\", \"projector\",\n",
    "            \"computer\", \"clock\", \"bulletin board\", \"maps or globes\"\n",
    "        ]\n",
    "        # List of probabilities for each item being in a classroom\n",
    "        self.probabilities = [\n",
    "            0.9, 0.8, 0.5, 0.1, 0.2,\n",
    "            0.9, 0.8, 0.5, 0.05, 0.02\n",
    "        ]\n",
    "        self.payout_multipliers = [\n",
    "            .25, .5, 1, 3, 2,\n",
    "            .25, .5, 1, 5, 20\n",
    "        ]\n",
    "        \n",
    "        \n",
    "        self.max_attempts = 5\n",
    "        self.max_wager = 5.00\n",
    "        self.max_payout = 300\n",
    "        self.discount = 0.92\n",
    "        \n",
    "        self.losing_messages = [\n",
    "            \"Better luck next time, {name}! Keep trying!\", \"Not quite right, {name}. Think harder!\",\n",
    "            \"{name}, are you even trying? Guess again!\", \"Oh no, {name}! That's not it. Try again!\",\n",
    "            \"Keep going, {name}! You can do it!\", \"{name}, you're losing steam! Time to turn it around!\"\n",
    "        ]\n",
    "        self.previous_message_index = -1\n",
    "\n",
    "        self.reset_game()\n",
    "\n",
    "    def reset_game(self):\n",
    "        self.secret_objects = sample(self.objects, self.max_attempts)\n",
    "        self.remaining_objects = self.objects.copy()  # Refresh the list of available objects\n",
    "        self.guess_history = []\n",
    "        self.correct_guesses = []\n",
    "        self.incorrect_guesses = []\n",
    "        self.other_guesses = []\n",
    "        self.attempts = 0\n",
    "\n",
    "    def check_guess(self, guess):\n",
    "        normalized_guess = guess.lower()\n",
    "        self.attempts += 1\n",
    "        self.guess_history.append(normalized_guess)\n",
    "        if normalized_guess in [obj.lower() for obj in self.remaining_objects]:\n",
    "            self.remaining_objects.remove(guess)  # Remove guessed item from available options\n",
    "        if normalized_guess in [obj.lower() for obj in self.secret_objects]:\n",
    "            self.correct_guesses.append(normalized_guess)\n",
    "            return True\n",
    "        self.incorrect_guesses.append(normalized_guess)\n",
    "        return False\n",
    "\n",
    "    def get_new_losing_message(self, name):\n",
    "        available_indices = [i for i in range(len(self.losing_messages)) if i != self.previous_message_index]\n",
    "        new_message_index = np.random.choice(available_indices)\n",
    "        self.previous_message_index = new_message_index\n",
    "        return self.losing_messages[new_message_index].format(name=name)\n",
    "\n",
    "    def get_results(self):\n",
    "        correct = set(self.correct_guesses)\n",
    "        incorrect = set(self.incorrect_guesses) - correct\n",
    "        other = set(self.other_guesses) - correct - incorrect\n",
    "        return correct, incorrect, other\n",
    "\n",
    "    def calculate_payoff(self, wager):\n",
    "        payoff = 0\n",
    "        details = []\n",
    "        for guess in self.correct_guesses:\n",
    "            index = self.objects.index(guess)\n",
    "            prob = self.probabilities[index]\n",
    "            multiplier = self.payout_multipliers[index]\n",
    "            amount = round(min(multiplier * wager * self.discount, self.max_payout),1)\n",
    "            payoff += amount\n",
    "            details.append((guess, prob, multiplier, amount))\n",
    "        return payoff, details\n",
    "\n",
    "def game_widget():\n",
    "    game = InteractiveGuessingGame()\n",
    "    name_input = widgets.Text(placeholder='Enter your name here...', description='Player Name:')\n",
    "    guess_input = widgets.Dropdown(options=game.remaining_objects, description='Guess:')\n",
    "    wager_input = widgets.Dropdown(options=[(\"$5.00 (max)\", 5.00), (\"$1.00\", 1.00), (\"$0.25\", 0.25), (\"$0.10\", 0.10)], description='Wager:')\n",
    "    button = widgets.Button(description=\"Check Guess\")\n",
    "    retry_button = widgets.Button(description=\"Retry\", disabled=True)\n",
    "    output = widgets.Output()\n",
    "\n",
    "    def on_button_clicked(b):\n",
    "        with output:\n",
    "            clear_output()\n",
    "            if not name_input.value:\n",
    "                print(\"Please enter your name first!\")\n",
    "                return\n",
    "            if wager_input.value > game.max_wager:\n",
    "                print(f\"Wager exceeds the maximum limit of ${game.max_wager}\")\n",
    "                return\n",
    "            guess = guess_input.value\n",
    "            game.check_guess(guess)\n",
    "            guess_input.options = game.remaining_objects  # Update dropdown options\n",
    "            if len(game.remaining_objects) > 0:\n",
    "                guess_input.value = game.remaining_objects[0]  # Set the next item as default\n",
    "            else:\n",
    "                guess_input.value = None\n",
    "\n",
    "            if game.attempts < game.max_attempts:\n",
    "                print(f\"Correct, {name_input.value}! The object {guess} is one of the secret objects.\" if guess.lower() in game.correct_guesses else game.get_new_losing_message(name_input.value))\n",
    "                print(f\"You have {game.max_attempts - game.attempts} more tries left.\")\n",
    "            else:\n",
    "                correct, incorrect, other = game.get_results()\n",
    "                payoff, details = game.calculate_payoff(wager_input.value)\n",
    "                if not correct:\n",
    "                    print(\"No matches made. Better luck next time\")\n",
    "                else:\n",
    "                    print(f\"Correct guesses: {correct}\")\n",
    "                print(f\"No more attempts left, {name_input.value}. The objects were {', '.join(game.secret_objects)}.\")\n",
    "                print(f\"Incorrect but on list: {incorrect}\")\n",
    "                print(f\"Congratulations! You've won ${payoff:.2f}!\")\n",
    "                print(\"Payoff details:\")\n",
    "                for detail in details:\n",
    "                    print(f\"Guess: {detail[0]}, Probability: {detail[1]:.2f}, Multiplier: {detail[2]}, Payout: ${detail[3]:.2f}\")\n",
    "                guess_input.disabled = True\n",
    "                button.disabled = True\n",
    "                retry_button.disabled = False\n",
    "\n",
    "    def on_retry_button_clicked(b):\n",
    "        game.reset_game()\n",
    "        guess_input.options = game.remaining_objects  # Reset dropdown options\n",
    "        if len(game.remaining_objects) > 0:\n",
    "            guess_input.value = game.remaining_objects[0]  # Set the next item as default\n",
    "        else:\n",
    "            guess_input.value = None\n",
    "        guess_input.disabled = False\n",
    "        button.disabled = False\n",
    "        retry_button.disabled = True\n",
    "        output.clear_output()\n",
    "        print(\"New game started. Make your guesses!\")\n",
    "\n",
    "    button.on_click(on_button_clicked)\n",
    "    retry_button.on_click(on_retry_button_clicked)\n",
    "\n",
    "    display(name_input, guess_input, wager_input, button, output, retry_button)\n",
    "\n",
    "game_widget()\n"
   ]
  },
  {
   "cell_type": "code",
   "execution_count": null,
   "id": "f59a871f-6a34-4035-b160-508593bdaaf4",
   "metadata": {},
   "outputs": [],
   "source": []
  }
 ],
 "metadata": {
  "kernelspec": {
   "display_name": "myenv39",
   "language": "python",
   "name": "myenv39"
  },
  "language_info": {
   "codemirror_mode": {
    "name": "ipython",
    "version": 3
   },
   "file_extension": ".py",
   "mimetype": "text/x-python",
   "name": "python",
   "nbconvert_exporter": "python",
   "pygments_lexer": "ipython3",
   "version": "3.7.8"
  }
 },
 "nbformat": 4,
 "nbformat_minor": 5
}
