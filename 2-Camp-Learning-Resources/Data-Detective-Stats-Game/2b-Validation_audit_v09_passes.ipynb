{
 "cells": [
  {
   "cell_type": "markdown",
   "id": "dc2f99ae-9e67-4328-b194-71b28b1c82ac",
   "metadata": {},
   "source": [
    "# Audit Passed"
   ]
  },
  {
   "cell_type": "code",
   "execution_count": 12,
   "id": "653b8570-3d97-45b1-91d0-bbe157cecc66",
   "metadata": {},
   "outputs": [
    {
     "data": {
      "image/png": "[encoded data removed]",
      "text/plain": [
       "<Figure size 720x432 with 1 Axes>"
      ]
     },
     "metadata": {
      "needs_background": "light"
     },
     "output_type": "display_data"
    },
    {
     "name": "stdout",
     "output_type": "stream",
     "text": [
      "Wager level $1.0: House net win/loss = $113.10\n",
      "Wager level $0.25: House net win/loss = $25.30\n",
      "Wager level $0.1: House net win/loss = $12.20\n"
     ]
    }
   ],
   "source": [
    "import random\n",
    "import numpy as np\n",
    "import matplotlib.pyplot as plt\n",
    "\n",
    "class InteractiveGuessingGame:\n",
    "    def __init__(self):\n",
    "        self.objects = [\n",
    "            \"chalkboard or whiteboard\",\n",
    "            \"desks and chairs\",\n",
    "            \"textbooks\",\n",
    "            \"notebooks or writing pads\",\n",
    "            \"pens and pencils\",\n",
    "            \"projector\",\n",
    "            \"computer\",\n",
    "            \"clock\",\n",
    "            \"bulletin board\",\n",
    "            \"maps or globes\"\n",
    "        ]\n",
    "        \n",
    "        self.probabilities = [\n",
    "            0.95, 0.99, 0.90, 0.95, 0.98,\n",
    "            0.85, 0.80, 0.95, 0.70, 0.60\n",
    "        ]\n",
    "\n",
    "        self.max_attempts = 5\n",
    "        self.reset_game()\n",
    "\n",
    "    def reset_game(self):\n",
    "        self.secret_objects = random.sample(self.objects, self.max_attempts)\n",
    "        self.secret_probabilities = [self.probabilities[self.objects.index(obj)] for obj in self.secret_objects]\n",
    "        self.correct_guesses = []\n",
    "\n",
    "    def play_game(self, wager):\n",
    "        self.reset_game()\n",
    "        guessed_items = set()  # Ensure unique guesses\n",
    "        for attempt in range(self.max_attempts):\n",
    "            guess = np.random.choice(self.objects)\n",
    "            while guess in guessed_items:  # Ensure the guess is unique\n",
    "                guess = np.random.choice(self.objects)\n",
    "            guessed_items.add(guess)\n",
    "            if guess in self.secret_objects:\n",
    "                self.correct_guesses.append(guess)\n",
    "        payoff = self.calculate_payoff(wager)\n",
    "        net_result = payoff - wager  # net win/loss for the player\n",
    "        return net_result\n",
    "\n",
    "    def calculate_payoff(self, wager):\n",
    "        payoff = 0\n",
    "        for guess in set(self.correct_guesses):  # Ensure unique correct guesses\n",
    "            index = self.objects.index(guess)\n",
    "            prob = self.probabilities[index]\n",
    "            amount = prob * wager\n",
    "            payoff += amount\n",
    "        return payoff\n",
    "\n",
    "def simulate_games(wager, num_games=100):\n",
    "    game = InteractiveGuessingGame()\n",
    "    results = [game.play_game(wager) for _ in range(num_games)]\n",
    "    net_result = np.sum(results)\n",
    "    return net_result\n",
    "\n",
    "# Wager levels\n",
    "wager_levels = [1.00, 0.25, 0.10]\n",
    "num_games = 100\n",
    "\n",
    "# Simulate the games\n",
    "results = {wager: simulate_games(wager, num_games) for wager in wager_levels}\n",
    "\n",
    "# Plotting the results\n",
    "plt.figure(figsize=(10, 6))\n",
    "plt.bar(results.keys(), results.values(), color=['blue', 'orange', 'green'])\n",
    "plt.xlabel('Wager Level ($)')\n",
    "plt.ylabel('House Net Win/Loss ($)')\n",
    "plt.title(f'House Net Win/Loss After {num_games} Games for Each Wager Level')\n",
    "plt.show()\n",
    "\n",
    "# Print detailed results\n",
    "for wager, result in results.items():\n",
    "    print(f\"Wager level ${wager}: House net win/loss = ${result:.2f}\")\n"
   ]
  },
  {
   "cell_type": "code",
   "execution_count": 11,
   "id": "3067cb2b-09c8-4c49-b63c-f7f476a9a4c9",
   "metadata": {},
   "outputs": [
    {
     "data": {
      "image/png": "[encoded data removed]",
      "text/plain": [
       "<Figure size 720x432 with 1 Axes>"
      ]
     },
     "metadata": {
      "needs_background": "light"
     },
     "output_type": "display_data"
    },
    {
     "name": "stdout",
     "output_type": "stream",
     "text": [
      "Wager level $1.0: House net win/loss = $5552.70\n",
      "Wager level $0.25: House net win/loss = $1336.90\n",
      "Wager level $0.1: House net win/loss = $543.90\n"
     ]
    }
   ],
   "source": [
    "import random\n",
    "import numpy as np\n",
    "import matplotlib.pyplot as plt\n",
    "\n",
    "class InteractiveGuessingGame:\n",
    "    def __init__(self):\n",
    "        self.objects = [\n",
    "            \"chalkboard or whiteboard\", \"desks and chairs\", \"textbooks\",\n",
    "            \"notebooks or writing pads\", \"pens and pencils\", \"projector\",\n",
    "            \"computer\", \"clock\", \"bulletin board\", \"maps or globes\"\n",
    "        ]\n",
    "        \n",
    "        self.probabilities = [\n",
    "            0.01, 0.03, 0.05, 0.07, 0.1, 0.02, 0.04, 0.06, 0.08, 0.1\n",
    "        ]\n",
    "\n",
    "        self.payout_multipliers = [50, 33, 20, 14, 10, 50, 25, 16, 12, 10]\n",
    "        self.max_attempts = 5\n",
    "        self.max_wager = 5.00\n",
    "        self.max_payout = 300\n",
    "        self.discount = 0.92\n",
    "        \n",
    "        self.reset_game()\n",
    "\n",
    "    def reset_game(self):\n",
    "        self.secret_objects = random.sample(self.objects, self.max_attempts)\n",
    "        self.correct_guesses = []\n",
    "\n",
    "    def play_game(self, wager):\n",
    "        self.reset_game()\n",
    "        guessed_items = set()  # Ensure unique guesses\n",
    "        for attempt in range(self.max_attempts):\n",
    "            guess = random.choice(self.objects)\n",
    "            while guess in guessed_items:  # Ensure the guess is unique\n",
    "                guess = random.choice(self.objects)\n",
    "            guessed_items.add(guess)\n",
    "            if guess in self.secret_objects:\n",
    "                self.correct_guesses.append(guess)\n",
    "        payoff = self.calculate_payoff(wager)\n",
    "        net_result = payoff - wager  # net win/loss for the player\n",
    "        return net_result\n",
    "\n",
    "    def calculate_payoff(self, wager):\n",
    "        payoff = 0\n",
    "        for guess in set(self.correct_guesses):  # Ensure unique correct guesses\n",
    "            index = self.objects.index(guess)\n",
    "            multiplier = self.payout_multipliers[index]\n",
    "            amount = round(min(multiplier * wager * self.discount, self.max_payout), 1)\n",
    "            payoff += amount\n",
    "        return payoff\n",
    "\n",
    "def simulate_games(wager, num_games=100):\n",
    "    game = InteractiveGuessingGame()\n",
    "    results = [game.play_game(wager) for _ in range(num_games)]\n",
    "    net_result = np.sum(results)\n",
    "    return net_result\n",
    "\n",
    "# Wager levels\n",
    "wager_levels = [1.00, 0.25, 0.10]\n",
    "num_games = 100\n",
    "\n",
    "# Simulate the games\n",
    "results = {wager: simulate_games(wager, num_games) for wager in wager_levels}\n",
    "\n",
    "# Plotting the results\n",
    "plt.figure(figsize=(10, 6))\n",
    "plt.bar(results.keys(), results.values(), color=['blue', 'orange', 'green'])\n",
    "plt.xlabel('Wager Level ($)')\n",
    "plt.ylabel('House Net Win/Loss ($)')\n",
    "plt.title(f'House Net Win/Loss After {num_games} Games for Each Wager Level')\n",
    "plt.show()\n",
    "\n",
    "# Print detailed results\n",
    "for wager, result in results.items():\n",
    "    print(f\"Wager level ${wager}: House net win/loss = ${result:.2f}\")\n"
   ]
  },
  {
   "cell_type": "code",
   "execution_count": 14,
   "id": "9e0f7b23-7ff0-4b9a-ba7b-75094f4d1ada",
   "metadata": {},
   "outputs": [
    {
     "data": {
      "image/png": "[encoded data removed]",
      "text/plain": [
       "<Figure size 720x432 with 1 Axes>"
      ]
     },
     "metadata": {
      "needs_background": "light"
     },
     "output_type": "display_data"
    },
    {
     "name": "stdout",
     "output_type": "stream",
     "text": [
      "Wager level $1.0: House net win/loss = $805.00\n",
      "Wager level $0.25: House net win/loss = $162.90\n",
      "Wager level $0.1: House net win/loss = $75.50\n"
     ]
    }
   ],
   "source": [
    "import random\n",
    "import numpy as np\n",
    "import matplotlib.pyplot as plt\n",
    "\n",
    "class InteractiveGuessingGame:\n",
    "    def __init__(self):\n",
    "        self.objects = [\n",
    "            \"chalkboard or whiteboard\", \"desks and chairs\", \"textbooks\",\n",
    "            \"notebooks or writing pads\", \"pens and pencils\", \"projector\",\n",
    "            \"computer\", \"clock\", \"bulletin board\", \"maps or globes\"\n",
    "        ]\n",
    "        \n",
    "        self.probabilities = [\n",
    "            0.9, 0.8, 0.5, 0.1, 0.2,\n",
    "            0.9, 0.8, 0.5, 0.05, 0.02\n",
    "        ]\n",
    "        self.payout_multipliers = [\n",
    "            .25, .5, 1, 3, 2,\n",
    "            .25, .5, 1, 5, 20\n",
    "        ]\n",
    "        self.max_attempts = 5\n",
    "        self.max_wager = 5.00\n",
    "        self.max_payout = 300\n",
    "        self.discount = 0.92\n",
    "        \n",
    "        self.reset_game()\n",
    "\n",
    "    def reset_game(self):\n",
    "        self.secret_objects = random.sample(self.objects, self.max_attempts)\n",
    "        self.correct_guesses = []\n",
    "\n",
    "    def play_game(self, wager):\n",
    "        self.reset_game()\n",
    "        guessed_items = set()  # Ensure unique guesses\n",
    "        for attempt in range(self.max_attempts):\n",
    "            guess = random.choice(self.objects)\n",
    "            while guess in guessed_items:  # Ensure the guess is unique\n",
    "                guess = random.choice(self.objects)\n",
    "            guessed_items.add(guess)\n",
    "            if guess in self.secret_objects:\n",
    "                self.correct_guesses.append(guess)\n",
    "        payoff = self.calculate_payoff(wager)\n",
    "        net_result = payoff - wager  # net win/loss for the player\n",
    "        return net_result\n",
    "\n",
    "    def calculate_payoff(self, wager):\n",
    "        payoff = 0\n",
    "        for guess in set(self.correct_guesses):  # Ensure unique correct guesses\n",
    "            index = self.objects.index(guess)\n",
    "            multiplier = self.payout_multipliers[index]\n",
    "            amount = round(min(multiplier * wager * self.discount, self.max_payout), 1)\n",
    "            payoff += amount\n",
    "        return payoff\n",
    "\n",
    "def simulate_games(wager, num_games=100):\n",
    "    game = InteractiveGuessingGame()\n",
    "    results = [game.play_game(wager) for _ in range(num_games)]\n",
    "    net_result = np.sum(results)\n",
    "    return net_result\n",
    "\n",
    "# Wager levels\n",
    "wager_levels = [1.00, 0.25, 0.10]\n",
    "num_games = 100\n",
    "\n",
    "# Simulate the games\n",
    "results = {wager: simulate_games(wager, num_games) for wager in wager_levels}\n",
    "\n",
    "# Plotting the results\n",
    "plt.figure(figsize=(10, 6))\n",
    "plt.bar(results.keys(), results.values(), color=['blue', 'orange', 'green'])\n",
    "plt.xlabel('Wager Level ($)')\n",
    "plt.ylabel('House Net Win/Loss ($)')\n",
    "plt.title(f'House Net Win/Loss After {num_games} Games for Each Wager Level')\n",
    "plt.show()\n",
    "\n",
    "# Print detailed results\n",
    "for wager, result in results.items():\n",
    "    print(f\"Wager level ${wager}: House net win/loss = ${result:.2f}\")\n"
   ]
  },
  {
   "cell_type": "code",
   "execution_count": null,
   "id": "2ce2ca38-d76e-4f7d-839e-987bdd35db5f",
   "metadata": {},
   "outputs": [],
   "source": []
  },
  {
   "cell_type": "code",
   "execution_count": null,
   "id": "b784aa88-e166-49c2-b014-08c4fe1b4cb3",
   "metadata": {},
   "outputs": [],
   "source": []
  },
  {
   "cell_type": "code",
   "execution_count": null,
   "id": "d4148675-3a31-4981-b509-c5fb3e41e131",
   "metadata": {},
   "outputs": [],
   "source": []
  },
  {
   "cell_type": "code",
   "execution_count": null,
   "id": "88ab8447-9d4e-4974-97a9-8c49afd2f879",
   "metadata": {},
   "outputs": [],
   "source": []
  }
 ],
 "metadata": {
  "kernelspec": {
   "display_name": "Python 3 (ipykernel)",
   "language": "python",
   "name": "python3"
  },
  "language_info": {
   "codemirror_mode": {
    "name": "ipython",
    "version": 3
   },
   "file_extension": ".py",
   "mimetype": "text/x-python",
   "name": "python",
   "nbconvert_exporter": "python",
   "pygments_lexer": "ipython3",
   "version": "3.7.8"
  }
 },
 "nbformat": 4,
 "nbformat_minor": 5
}
