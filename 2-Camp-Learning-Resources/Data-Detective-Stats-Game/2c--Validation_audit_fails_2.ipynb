{
 "cells": [
  {
   "cell_type": "markdown",
   "id": "90968e90-8888-4b1b-8273-91a965a45fb4",
   "metadata": {},
   "source": [
    "# Audit Failed"
   ]
  },
  {
   "cell_type": "code",
   "execution_count": 1,
   "id": "5b39bae0-1cc9-4dba-9ac7-ea918be564ae",
   "metadata": {},
   "outputs": [
    {
     "data": {
      "image/png": "[encoded data removed]",
      "text/plain": [
       "<Figure size 720x432 with 1 Axes>"
      ]
     },
     "metadata": {
      "needs_background": "light"
     },
     "output_type": "display_data"
    },
    {
     "name": "stdout",
     "output_type": "stream",
     "text": [
      "Wager level $1.0: House net win/loss = $-53.47\n",
      "Wager level $0.25: House net win/loss = $-14.71\n",
      "Wager level $0.1: House net win/loss = $-5.70\n"
     ]
    }
   ],
   "source": [
    "import random\n",
    "import numpy as np\n",
    "import matplotlib.pyplot as plt\n",
    "\n",
    "class InteractiveGuessingGame:\n",
    "    def __init__(self):\n",
    "        self.objects = [\n",
    "            \"chalkboard or whiteboard\",\n",
    "            \"desks and chairs\",\n",
    "            \"textbooks\",\n",
    "            \"notebooks or writing pads\",\n",
    "            \"pens and pencils\",\n",
    "            \"projector\",\n",
    "            \"computer\",\n",
    "            \"clock\",\n",
    "            \"bulletin board\",\n",
    "            \"maps or globes\"\n",
    "        ]\n",
    "        \n",
    "        self.probabilities = [\n",
    "            0.95, 0.99, 0.90, 0.95, 0.98,\n",
    "            0.85, 0.80, 0.95, 0.70, 0.60\n",
    "        ]\n",
    "\n",
    "        self.max_attempts = 5\n",
    "        self.reset_game()\n",
    "\n",
    "    def reset_game(self):\n",
    "        self.secret_objects = random.sample(self.objects, self.max_attempts)\n",
    "        self.secret_probabilities = [self.probabilities[self.objects.index(obj)] for obj in self.secret_objects]\n",
    "        self.correct_guesses = []\n",
    "\n",
    "    def play_game(self, wager):\n",
    "        self.reset_game()\n",
    "        guessed_items = set()  # Ensure unique guesses\n",
    "        correct_guesses = 0\n",
    "        for attempt in range(self.max_attempts):\n",
    "            guess = np.random.choice(self.objects)\n",
    "            while guess in guessed_items:  # Ensure the guess is unique\n",
    "                guess = np.random.choice(self.objects)\n",
    "            guessed_items.add(guess)\n",
    "            if guess in self.secret_objects:\n",
    "                self.correct_guesses.append(guess)\n",
    "                correct_guesses += 1\n",
    "        payoff = self.calculate_payoff(wager)\n",
    "        net_result = payoff - wager  # net win/loss for the player\n",
    "        return net_result\n",
    "\n",
    "    def calculate_payoff(self, wager):\n",
    "        payoff = 0\n",
    "        weight = 1 / self.max_attempts\n",
    "        for guess in set(self.correct_guesses):  # Ensure unique correct guesses\n",
    "            index = self.objects.index(guess)\n",
    "            prob = self.probabilities[index]\n",
    "            amount = prob * weight * wager\n",
    "            payoff += amount\n",
    "        return payoff\n",
    "\n",
    "def simulate_games(wager, num_games=100):\n",
    "    game = InteractiveGuessingGame()\n",
    "    results = [game.play_game(wager) for _ in range(num_games)]\n",
    "    net_result = np.sum(results)\n",
    "    return net_result\n",
    "\n",
    "# Wager levels\n",
    "wager_levels = [1.00, 0.25, 0.10]\n",
    "num_games = 100\n",
    "\n",
    "# Simulate the games\n",
    "results = {wager: simulate_games(wager, num_games) for wager in wager_levels}\n",
    "\n",
    "# Plotting the results\n",
    "plt.figure(figsize=(10, 6))\n",
    "plt.bar(results.keys(), results.values(), color=['blue', 'orange', 'green'])\n",
    "plt.xlabel('Wager Level ($)')\n",
    "plt.ylabel('House Net Win/Loss ($)')\n",
    "plt.title(f'House Net Win/Loss After {num_games} Games for Each Wager Level')\n",
    "plt.show()\n",
    "\n",
    "# Print detailed results\n",
    "for wager, result in results.items():\n",
    "    print(f\"Wager level ${wager}: House net win/loss = ${result:.2f}\")\n"
   ]
  },
  {
   "cell_type": "code",
   "execution_count": null,
   "id": "15643f26-0f40-4b67-8673-f462bc24889f",
   "metadata": {},
   "outputs": [],
   "source": []
  }
 ],
 "metadata": {
  "kernelspec": {
   "display_name": "Python 3 (ipykernel)",
   "language": "python",
   "name": "python3"
  },
  "language_info": {
   "codemirror_mode": {
    "name": "ipython",
    "version": 3
   },
   "file_extension": ".py",
   "mimetype": "text/x-python",
   "name": "python",
   "nbconvert_exporter": "python",
   "pygments_lexer": "ipython3",
   "version": "3.7.8"
  }
 },
 "nbformat": 4,
 "nbformat_minor": 5
}
