{
 "cells": [
  {
   "cell_type": "markdown",
   "id": "09d52894-d4a9-4ca2-b781-4e7c1cdb920d",
   "metadata": {},
   "source": [
    "# Data Detective Defective"
   ]
  },
  {
   "cell_type": "code",
   "execution_count": 2,
   "id": "08963dca-a093-4395-b6e1-e26208250a2c",
   "metadata": {},
   "outputs": [
    {
     "data": {
      "application/vnd.jupyter.widget-view+json": {
       "model_id": "d7afea2d128d4b2c9ecac698c6bf06ea",
       "version_major": 2,
       "version_minor": 0
      },
      "text/plain": [
       "Text(value='', description='Name:', placeholder='Enter your name here...')"
      ]
     },
     "metadata": {},
     "output_type": "display_data"
    },
    {
     "data": {
      "application/vnd.jupyter.widget-view+json": {
       "model_id": "165a79d0bdef4f918dfaa27f53454029",
       "version_major": 2,
       "version_minor": 0
      },
      "text/plain": [
       "Dropdown(description='Guess:', options=('chalkboard or whiteboard', 'desks and chairs', 'textbooks', 'notebook…"
      ]
     },
     "metadata": {},
     "output_type": "display_data"
    },
    {
     "data": {
      "application/vnd.jupyter.widget-view+json": {
       "model_id": "14b9c5dbce4945518391b26dedd4a5ea",
       "version_major": 2,
       "version_minor": 0
      },
      "text/plain": [
       "Dropdown(description='Wager:', options=(('$5.00 (max)', 5.0), ('$1.00', 1.0), ('$0.25', 0.25), ('$0.10', 0.1))…"
      ]
     },
     "metadata": {},
     "output_type": "display_data"
    },
    {
     "data": {
      "application/vnd.jupyter.widget-view+json": {
       "model_id": "6688e7e9c8d64f44a6eec832f9939503",
       "version_major": 2,
       "version_minor": 0
      },
      "text/plain": [
       "Button(description='Check Guess', style=ButtonStyle())"
      ]
     },
     "metadata": {},
     "output_type": "display_data"
    },
    {
     "data": {
      "application/vnd.jupyter.widget-view+json": {
       "model_id": "cd8b8d79d58447618e56ba004a79f61b",
       "version_major": 2,
       "version_minor": 0
      },
      "text/plain": [
       "Output()"
      ]
     },
     "metadata": {},
     "output_type": "display_data"
    },
    {
     "data": {
      "application/vnd.jupyter.widget-view+json": {
       "model_id": "373609ec3e8b4b628142b6232c7f651a",
       "version_major": 2,
       "version_minor": 0
      },
      "text/plain": [
       "Button(description='Retry', disabled=True, style=ButtonStyle())"
      ]
     },
     "metadata": {},
     "output_type": "display_data"
    }
   ],
   "source": [
    "import ipywidgets as widgets\n",
    "from IPython.display import display, clear_output\n",
    "from random import sample\n",
    "import numpy as np\n",
    "\n",
    "# Define a class to manage the game logic\n",
    "class InteractiveGuessingGame:\n",
    "    def __init__(self):\n",
    "        # List of items found in a classroom\n",
    "        self.objects = [\n",
    "            \"chalkboard or whiteboard\",\n",
    "            \"desks and chairs\",\n",
    "            \"textbooks\",\n",
    "            \"notebooks or writing pads\",\n",
    "            \"pens and pencils\",\n",
    "            \"projector\",\n",
    "            \"computer\",\n",
    "            \"clock\",\n",
    "            \"bulletin board\",\n",
    "            \"maps or globes\"\n",
    "        ]\n",
    "        \n",
    "        # List of probabilities for each item being in a classroom\n",
    "        self.probabilities = [\n",
    "            0.02, 0.05, 0.10, 0.15, 0.20,\n",
    "            0.02, 0.05, 0.10, 0.15, 0.20\n",
    "        ]\n",
    "\n",
    "        self.payout_multipliers = [20, 10, 8, 5, 3, 20, 10, 8, 5, 3]\n",
    "        self.max_attempts = 5\n",
    "        self.max_wager = 5.00  # Max wager\n",
    "        self.max_payout = 500  # Max payout per game\n",
    "        self.discount = 0.96  # Discount for security\n",
    "        self.reset_game()\n",
    "\n",
    "    def reset_game(self):\n",
    "        self.secret_objects = sample(self.objects, self.max_attempts)\n",
    "        self.secret_probabilities = [self.probabilities[self.objects.index(obj)] for obj in self.secret_objects]\n",
    "        self.guess_history = []\n",
    "        self.correct_guesses = []\n",
    "        self.incorrect_guesses = []\n",
    "        self.other_guesses = []\n",
    "        self.attempts = 0\n",
    "\n",
    "    def check_guess(self, guess):\n",
    "        self.attempts += 1\n",
    "        self.guess_history.append(guess.lower())\n",
    "        if guess.lower() in [obj.lower() for obj in self.secret_objects]:\n",
    "            self.correct_guesses.append(guess.lower())\n",
    "            return True\n",
    "        elif guess.lower() in self.objects:\n",
    "            self.incorrect_guesses.append(guess.lower())\n",
    "        else:\n",
    "            self.other_guesses.append(guess.lower())\n",
    "        return False\n",
    "\n",
    "    def get_results(self):\n",
    "        correct = set(self.correct_guesses)\n",
    "        incorrect = set(self.incorrect_guesses) - correct\n",
    "        other = set(self.other_guesses) - correct - incorrect\n",
    "        return correct, incorrect, other\n",
    "\n",
    "    def calculate_payoff(self, wager):\n",
    "        payoff = 0\n",
    "        details = []\n",
    "        for guess in self.correct_guesses:\n",
    "            index = self.objects.index(guess)\n",
    "            prob = self.probabilities[index]\n",
    "            payout_multiplier = self.payout_multipliers[index]\n",
    "            amount = min(payout_multiplier * wager * self.discount, self.max_payout)\n",
    "            payoff += amount\n",
    "            details.append((guess, prob, payout_multiplier, amount))\n",
    "        return payoff, details\n",
    "\n",
    "# Function to manage the interactive widgets and game state\n",
    "def game_widget():\n",
    "    game = InteractiveGuessingGame()\n",
    "    name_input = widgets.Text(\n",
    "        placeholder='Enter your name here...',\n",
    "        description='Name:',\n",
    "    )\n",
    "    guess_input = widgets.Dropdown(\n",
    "        options=game.objects,\n",
    "        description='Guess:'\n",
    "    )\n",
    "    wager_input = widgets.Dropdown(\n",
    "        options=[\n",
    "            (\"$5.00 (max)\", 5.00),\n",
    "            (\"$1.00\", 1.00),\n",
    "            (\"$0.25\", 0.25),\n",
    "            (\"$0.10\", 0.10)\n",
    "        ],\n",
    "        description='Wager:'\n",
    "    )\n",
    "    button = widgets.Button(description=\"Check Guess\")\n",
    "    retry_button = widgets.Button(description=\"Retry\", disabled=True)\n",
    "    output = widgets.Output()\n",
    "\n",
    "    def on_button_clicked(b):\n",
    "        with output:\n",
    "            clear_output()\n",
    "            if name_input.value == \"\":\n",
    "                print(\"Please enter your name first!\")\n",
    "                return\n",
    "            if wager_input.value > game.max_wager:\n",
    "                print(f\"Wager exceeds the maximum limit of ${game.max_wager}\")\n",
    "                return\n",
    "            guess = guess_input.value.lower()\n",
    "            if game.check_guess(guess):\n",
    "                print(f\"Correct, {name_input.value}! The object {guess} is one of the secret objects.\")\n",
    "            else:\n",
    "                print(f\"Incorrect, {name_input.value}. Try again!\")\n",
    "            \n",
    "            tries_left = game.max_attempts - game.attempts\n",
    "            if tries_left > 0:\n",
    "                print(f\"You have {tries_left} more tries left.\")\n",
    "            else:\n",
    "                print(f\"No more attempts left, {name_input.value}. The objects were {', '.join(game.secret_objects)}.\")\n",
    "                guess_input.disabled = True\n",
    "                button.disabled = True\n",
    "                retry_button.disabled = False\n",
    "                correct, incorrect, other = game.get_results()\n",
    "                payoff, details = game.calculate_payoff(wager_input.value)\n",
    "                print(f\"Correct guesses: {correct}\")\n",
    "                print(f\"Incorrect but on list: {incorrect}\")\n",
    "                print(f\"Other incorrect guesses: {other}\")\n",
    "                print(f\"Congratulations! You've won ${payoff:.2f}!\")\n",
    "                print(\"Payoff details:\")\n",
    "                for guess, prob, multiplier, amount in details:\n",
    "                    print(f\"Guess: {guess}, Probability: {prob}, Multiplier: {multiplier}, Payout: ${amount:.2f}\")\n",
    "\n",
    "    def on_retry_button_clicked(b):\n",
    "        with output:\n",
    "            clear_output()\n",
    "            game.reset_game()\n",
    "            guess_input.disabled = False\n",
    "            button.disabled = False\n",
    "            retry_button.disabled = True\n",
    "            print(\"New game started. Make your guesses!\")\n",
    "\n",
    "    button.on_click(on_button_clicked)\n",
    "    retry_button.on_click(on_retry_button_clicked)\n",
    "    display(name_input, guess_input, wager_input, button, output, retry_button)\n",
    "\n",
    "# Display the game widget in the notebook\n",
    "game_widget()\n"
   ]
  },
  {
   "cell_type": "code",
   "execution_count": null,
   "id": "612454b0-4c10-4e71-bdda-0b9ad9bdac31",
   "metadata": {},
   "outputs": [],
   "source": []
  }
 ],
 "metadata": {
  "kernelspec": {
   "display_name": "Python 3 (ipykernel)",
   "language": "python",
   "name": "python3"
  },
  "language_info": {
   "codemirror_mode": {
    "name": "ipython",
    "version": 3
   },
   "file_extension": ".py",
   "mimetype": "text/x-python",
   "name": "python",
   "nbconvert_exporter": "python",
   "pygments_lexer": "ipython3",
   "version": "3.7.8"
  }
 },
 "nbformat": 4,
 "nbformat_minor": 5
}
