{
  "nbformat": 4,
  "nbformat_minor": 0,
  "metadata": {
    "colab": {
      "provenance": [],
      "gpuType": "T4",
      "authorship_tag": "ABX9TyNU8AjFaa+t9gtJeONpaSaT",
      "include_colab_link": true
    },
    "kernelspec": {
      "name": "python3",
      "display_name": "Python 3"
    },
    "language_info": {
      "name": "python"
    },
    "accelerator": "GPU"
  },
  "cells": [
    {
      "cell_type": "markdown",
      "metadata": {
        "id": "view-in-github",
        "colab_type": "text"
      },
      "source": [
        "<a href=\"https://colab.research.google.com/github/RudyMartin/dsai-2024/blob/main/pt_train_rps_cnn_models_v2b.ipynb\" target=\"_parent\"><img src=\"https://colab.research.google.com/assets/colab-badge.svg\" alt=\"Open In Colab\"/></a>"
      ]
    },
    {
      "cell_type": "markdown",
      "source": [
        "name: torch_train_rps_cnn_models.py\n",
        "\n",
        "status: add more evaulation charts"
      ],
      "metadata": {
        "id": "FMmTAuX_Tshw"
      }
    },
    {
      "cell_type": "code",
      "execution_count": 1,
      "metadata": {
        "colab": {
          "base_uri": "https://localhost:8080/"
        },
        "id": "b1Ah0XN7Tp5-",
        "outputId": "f2003405-73c2-40a6-f1ae-0e4d6ef84128"
      },
      "outputs": [
        {
          "output_type": "stream",
          "name": "stdout",
          "text": [
            "Mounted at /content/gdrive\n",
            "['DSC02677.jpeg', 'Colab Notebooks', 'dscamp_2023', 'dscamp_2022', 'proportions.csv', 'proportions.gsheet', 'activeloop_2023', 'Untitled spreadsheet (1).gsheet', 'Untitled spreadsheet.gsheet', 'YouTube', 'Copy of My Presentation.gslides', 'Introduction .gslides', 'Copy of Introduction .gslides', 'dscamp', 'dscamp_2024_nano', 'ds_camp_2024_trans_hf', 'rps_test', 'rps', 'rps_pics', 'papers']\n",
            "'rps' directory contents: ['test', 'train', 'models', 'modelsbaseline_1.keras', 'df_metrics_20240610.csv', 'model.h5', 'model.pth', 'model.keras', 'pt_model.pth', 'df_metrics_baseline_1_20240610.csv', 'sequential_acc_graph.png', 'sequential_loss_graph.png']\n",
            "rps directory contents: ['test', 'train', 'models', 'modelsbaseline_1.keras', 'df_metrics_20240610.csv', 'model.h5', 'model.pth', 'model.keras', 'pt_model.pth', 'df_metrics_baseline_1_20240610.csv', 'sequential_acc_graph.png', 'sequential_loss_graph.png']\n",
            "Finished Training Model 1\n",
            "Model 1 saved to /content/gdrive/My Drive/model/model_1.pth\n",
            "Finished Training Model 2\n",
            "Model 2 saved to /content/gdrive/My Drive/model/model_2.pth\n",
            "Accuracy of model_1 on the test images: 44 %\n",
            "Accuracy of model_2 on the test images: 38 %\n",
            "Accuracy for model_1 class: rock  is 100.0 %\n",
            "Accuracy for model_1 class: paper is 33.3 %\n",
            "Accuracy for model_1 class: scissors is 0.0 %\n",
            "Accuracy for model_2 class: rock  is 50.0 %\n",
            "Accuracy for model_2 class: paper is 66.7 %\n",
            "Accuracy for model_2 class: scissors is 0.0 %\n"
          ]
        }
      ],
      "source": [
        "import torch\n",
        "import torchvision.transforms as transforms\n",
        "from torchvision.datasets import ImageFolder\n",
        "from torch.utils.data import DataLoader\n",
        "import torch.nn as nn\n",
        "import torch.nn.functional as F\n",
        "import torch.optim as optim\n",
        "import os\n",
        "from google.colab import drive\n",
        "import numpy as np  # Added for saving losses\n",
        "import matplotlib.pyplot as plt  # Added for plotting\n",
        "from sklearn.metrics import confusion_matrix, ConfusionMatrixDisplay, classification_report\n",
        "\n",
        "# 1. Mount Google Drive to access the dataset\n",
        "drive.mount('/content/gdrive')\n",
        "\n",
        "# 2. Verify and list directories\n",
        "root_dir = '/content/gdrive/My Drive/'\n",
        "print(os.listdir(root_dir))\n",
        "\n",
        "rps_dir = os.path.join(root_dir, 'rps')\n",
        "if os.path.exists(rps_dir):\n",
        "    print(f\"'rps' directory contents: {os.listdir(rps_dir)}\")\n",
        "else:\n",
        "    raise FileNotFoundError(f\"Directory {rps_dir} does not exist.\")\n",
        "\n",
        "train_dir = os.path.join(rps_dir, 'train')\n",
        "test_dir = os.path.join(rps_dir, 'test')\n",
        "model_dir = os.path.join(root_dir, 'model')\n",
        "os.makedirs(model_dir, exist_ok=True)\n",
        "print(f\"rps directory contents: {os.listdir(rps_dir)}\")\n",
        "\n",
        "# 3. Data augmentation and normalization for training\n",
        "transform_train = transforms.Compose([\n",
        "    transforms.RandomResizedCrop((160, 120), scale=(0.8, 1.0)),\n",
        "    transforms.RandomHorizontalFlip(),\n",
        "    transforms.ToTensor(),\n",
        "    transforms.Normalize((0.5, 0.5, 0.5), (0.5, 0.5, 0.5)),  # Adjust based on your dataset statistics\n",
        "])\n",
        "\n",
        "# 4. Just normalization for testing\n",
        "transform_test = transforms.Compose([\n",
        "    transforms.Resize((160, 120)),\n",
        "    transforms.ToTensor(),\n",
        "    transforms.Normalize((0.5, 0.5, 0.5), (0.5, 0.5, 0.5)),  # Adjust based on your dataset statistics\n",
        "])\n",
        "\n",
        "# 5. Paths to training and testing datasets\n",
        "train_path = os.path.join(rps_dir, 'train')\n",
        "test_path = os.path.join(rps_dir, 'test')\n",
        "\n",
        "if not os.path.exists(train_path):\n",
        "    raise FileNotFoundError(f\"Training directory {train_path} does not exist.\")\n",
        "if not os.path.exists(test_path):\n",
        "    raise FileNotFoundError(f\"Testing directory {test_path} does not exist.\")\n",
        "\n",
        "# 6. Load datasets\n",
        "trainset = ImageFolder(root=train_path, transform=transform_train)\n",
        "trainloader = DataLoader(trainset, batch_size=8, shuffle=True, num_workers=2)\n",
        "\n",
        "testset = ImageFolder(root=test_path, transform=transform_test)\n",
        "testloader = DataLoader(testset, batch_size=8, shuffle=False, num_workers=2)\n",
        "\n",
        "# 7. Class labels\n",
        "classes = ('rock', 'paper', 'scissors')\n",
        "\n",
        "# 8. Define the CNN model\n",
        "class ImprovedNet(nn.Module):\n",
        "    def __init__(self):\n",
        "        super(ImprovedNet, self).__init__()\n",
        "        self.conv1 = nn.Conv2d(3, 32, kernel_size=3, padding=1)\n",
        "        self.conv2 = nn.Conv2d(32, 64, kernel_size=3, padding=1)\n",
        "        self.conv3 = nn.Conv2d(64, 128, kernel_size=3, padding=1)\n",
        "        self.pool = nn.MaxPool2d(2, 2)\n",
        "        self.fc1 = nn.Linear(128 * 20 * 15, 256)  # Adjusted input size for smaller images\n",
        "        self.fc2 = nn.Linear(256, 128)\n",
        "        self.fc3 = nn.Linear(128, 3)\n",
        "        self.dropout = nn.Dropout(0.5)\n",
        "        self.bn1 = nn.BatchNorm2d(32)\n",
        "        self.bn2 = nn.BatchNorm2d(64)\n",
        "        self.bn3 = nn.BatchNorm2d(128)\n",
        "\n",
        "    def forward(self, x):\n",
        "        x = self.pool(F.relu(self.bn1(self.conv1(x))))\n",
        "        x = self.pool(F.relu(self.bn2(self.conv2(x))))\n",
        "        x = self.pool(F.relu(self.bn3(self.conv3(x))))\n",
        "        x = torch.flatten(x, 1)\n",
        "        x = F.relu(self.fc1(x))\n",
        "        x = self.dropout(x)\n",
        "        x = F.relu(self.fc2(x))\n",
        "        x = self.dropout(x)\n",
        "        x = self.fc3(x)\n",
        "        return x\n",
        "\n",
        "# 9. Instantiate two models for comparison\n",
        "model_1 = ImprovedNet()\n",
        "model_2 = ImprovedNet()\n",
        "\n",
        "# 10. Define loss function and optimizers for both models\n",
        "criterion = nn.CrossEntropyLoss()\n",
        "\n",
        "# 10. Optimizer and learning rate scheduler for model_1\n",
        "optimizer_1 = optim.Adam(model_1.parameters(), lr=0.001)\n",
        "scheduler_1 = optim.lr_scheduler.StepLR(optimizer_1, step_size=10, gamma=0.1)\n",
        "\n",
        "# 10. Optimizer and learning rate scheduler for model_2\n",
        "optimizer_2 = optim.SGD(model_2.parameters(), lr=0.01, momentum=0.9)\n",
        "scheduler_2 = optim.lr_scheduler.CosineAnnealingLR(optimizer_2, T_max=50)\n",
        "\n",
        "# Initialize lists to store losses for plotting\n",
        "losses_1 = []\n",
        "losses_2 = []\n",
        "\n",
        "# 11. Training loop for model_1\n",
        "for epoch in range(5):  # Increase number of epochs to 50 for a real training scenario, using 5 for demo\n",
        "    running_loss = 0.0\n",
        "    model_1.train()  # Set the model to training mode\n",
        "    for i, data in enumerate(trainloader, 0):\n",
        "        inputs, labels = data\n",
        "        optimizer_1.zero_grad()  # Zero the parameter gradients\n",
        "        outputs = model_1(inputs)\n",
        "        loss = criterion(outputs, labels)\n",
        "        loss.backward()  # Backpropagate the loss\n",
        "        optimizer_1.step()  # Update the model parameters\n",
        "        running_loss += loss.item()\n",
        "        if i % 200 == 199:  # Print every 200 mini-batches\n",
        "            print(f'[Model 1, Epoch {epoch + 1}, Batch {i + 1}] loss: {running_loss / 200:.3f}')\n",
        "            running_loss = 0.0\n",
        "    scheduler_1.step()  # Update the learning rate\n",
        "    losses_1.append(running_loss / len(trainloader))\n",
        "\n",
        "print('Finished Training Model 1')\n",
        "\n",
        "# 12. Save the trained model_1\n",
        "model_1_path = os.path.join(model_dir, 'model_1.pth')\n",
        "torch.save(model_1.state_dict(), model_1_path)\n",
        "print(f\"Model 1 saved to {model_1_path}\")\n",
        "\n",
        "# 11. Training loop for model_2\n",
        "for epoch in range(5):  # Increase number of epochs to 50 for a real training scenario, using 5 for demo\n",
        "    running_loss = 0.0\n",
        "    model_2.train()  # Set the model to training mode\n",
        "    for i, data in enumerate(trainloader, 0):\n",
        "        inputs, labels = data\n",
        "        optimizer_2.zero_grad()  # Zero the parameter gradients\n",
        "        outputs = model_2(inputs)\n",
        "        loss = criterion(outputs, labels)\n",
        "        loss.backward()  # Backpropagate the loss\n",
        "        optimizer_2.step()  # Update the model parameters\n",
        "        running_loss += loss.item()\n",
        "        if i % 200 == 199:  # Print every 200 mini-batches\n",
        "            print(f'[Model 2, Epoch {epoch + 1}, Batch {i + 1}] loss: {running_loss / 200:.3f}')\n",
        "            running_loss = 0.0\n",
        "    scheduler_2.step()  # Update the learning rate\n",
        "    losses_2.append(running_loss / len(trainloader))\n",
        "\n",
        "print('Finished Training Model 2')\n",
        "\n",
        "# 12. Save the trained model_2\n",
        "model_2_path = os.path.join(model_dir, 'model_2.pth')\n",
        "torch.save(model_2.state_dict(), model_2_path)\n",
        "print(f\"Model 2 saved to {model_2_path}\")\n",
        "\n",
        "# Save the losses for later use in evaluation script\n",
        "np.save(os.path.join(model_dir, 'losses_1.npy'), losses_1)\n",
        "np.save(os.path.join(model_dir, 'losses_2.npy'), losses_2)\n",
        "\n"
      ]
    },
    {
      "cell_type": "code",
      "source": [
        "# 13. Testing loop for model_1\n",
        "correct = 0\n",
        "total = 0\n",
        "model_1.eval()  # Set the model to evaluation mode\n",
        "with torch.no_grad():\n",
        "    for data in testloader:\n",
        "        images, labels = data\n",
        "        outputs = model_1(images)\n",
        "        _, predicted = torch.max(outputs.data, 1)\n",
        "        total += labels.size(0)\n",
        "        correct += (predicted == labels).sum().item()\n",
        "\n",
        "print(f'Accuracy of model_1 on the test images: {100 * correct // total} %')"
      ],
      "metadata": {
        "colab": {
          "base_uri": "https://localhost:8080/"
        },
        "id": "-tNHVsrjAr-T",
        "outputId": "363e356b-bf43-4f01-ebae-df0ccfd01d0a"
      },
      "execution_count": 14,
      "outputs": [
        {
          "output_type": "stream",
          "name": "stdout",
          "text": [
            "Accuracy of model_1 on the test images: 44 %\n"
          ]
        }
      ]
    },
    {
      "cell_type": "code",
      "source": [
        "# 13. Testing loop for model_2\n",
        "correct = 0\n",
        "total = 0\n",
        "model_2.eval()  # Set the model to evaluation mode\n",
        "with torch.no_grad():\n",
        "    for data in testloader:\n",
        "        images, labels = data\n",
        "        outputs = model_2(images)\n",
        "        _, predicted = torch.max(outputs.data, 1)\n",
        "        total += labels.size(0)\n",
        "        correct += (predicted == labels).sum().item()\n",
        "\n",
        "print(f'Accuracy of model_2 on the test images: {100 * correct // total} %')"
      ],
      "metadata": {
        "colab": {
          "base_uri": "https://localhost:8080/"
        },
        "id": "uAMgxpF4An1V",
        "outputId": "e2398f29-f678-4571-e297-39c4b1b57c43"
      },
      "execution_count": 13,
      "outputs": [
        {
          "output_type": "stream",
          "name": "stdout",
          "text": [
            "Accuracy of model_2 on the test images: 38 %\n"
          ]
        }
      ]
    },
    {
      "cell_type": "code",
      "source": [
        "# 14. Accuracy for each class for model_1\n",
        "correct_pred = {classname: 0 for classname in classes}\n",
        "total_pred = {classname: 0 for classname in classes}\n",
        "\n",
        "with torch.no_grad():\n",
        "    for data in testloader:\n",
        "        images, labels = data\n",
        "        outputs = model_1(images)\n",
        "        _, predictions = torch.max(outputs, 1)\n",
        "        for label, prediction in zip(labels, predictions):\n",
        "            if label == prediction:\n",
        "                correct_pred[classes[label]] += 1\n",
        "            total_pred[classes[label]] += 1\n",
        "\n",
        "for classname, correct_count in correct_pred.items():\n",
        "    accuracy = 100 * float(correct_count) / total_pred[classname]\n",
        "    print(f'Accuracy for model_1 class: {classname:5s} is {accuracy:.1f} %')"
      ],
      "metadata": {
        "colab": {
          "base_uri": "https://localhost:8080/"
        },
        "id": "l1u4aOmQAih2",
        "outputId": "4db0b772-33dc-42e7-fb51-22aa98e632b5"
      },
      "execution_count": 16,
      "outputs": [
        {
          "output_type": "stream",
          "name": "stdout",
          "text": [
            "Accuracy for model_1 class: rock  is 100.0 %\n",
            "Accuracy for model_1 class: paper is 33.3 %\n",
            "Accuracy for model_1 class: scissors is 0.0 %\n"
          ]
        }
      ]
    },
    {
      "cell_type": "code",
      "source": [
        "# 14. Accuracy for each class for model_2\n",
        "correct_pred = {classname: 0 for classname in classes}\n",
        "total_pred = {classname: 0 for classname in classes}\n",
        "\n",
        "with torch.no_grad():\n",
        "    for data in testloader:\n",
        "        images, labels = data\n",
        "        outputs = model_2(images)\n",
        "        _, predictions = torch.max(outputs, 1)\n",
        "        for label, prediction in zip(labels, predictions):\n",
        "            if label == prediction:\n",
        "                correct_pred[classes[label]] += 1\n",
        "            total_pred[classes[label]] += 1\n",
        "\n",
        "for classname, correct_count in correct_pred.items():\n",
        "    accuracy = 100 * float(correct_count) / total_pred[classname]\n",
        "    print(f'Accuracy for model_2 class: {classname:5s} is {accuracy:.1f} %')"
      ],
      "metadata": {
        "colab": {
          "base_uri": "https://localhost:8080/"
        },
        "id": "F4sqdWpBA7wC",
        "outputId": "ddc87919-2ee1-44d8-b1c7-c026cde5da3e"
      },
      "execution_count": 15,
      "outputs": [
        {
          "output_type": "stream",
          "name": "stdout",
          "text": [
            "Accuracy for model_2 class: rock  is 50.0 %\n",
            "Accuracy for model_2 class: paper is 66.7 %\n",
            "Accuracy for model_2 class: scissors is 0.0 %\n"
          ]
        }
      ]
    },
    {
      "cell_type": "code",
      "source": [
        "# Evaluate model accuracy\n",
        "def evaluate_model(model, testloader):\n",
        "    correct = 0\n",
        "    total = 0\n",
        "    correct_pred = {classname: 0 for classname in classes}\n",
        "    total_pred = {classname: 0 for classname in classes}\n",
        "\n",
        "    with torch.no_grad():\n",
        "        for data in testloader:\n",
        "            images, labels = data\n",
        "            outputs = model(images)\n",
        "            _, predictions = torch.max(outputs, 1)\n",
        "            total += labels.size(0)\n",
        "            correct += (predictions == labels).sum().item()\n",
        "            for label, prediction in zip(labels, predictions):\n",
        "                if label == prediction:\n",
        "                    correct_pred[classes[label]] += 1\n",
        "                total_pred[classes[label]] += 1\n",
        "\n",
        "    accuracy = 100 * correct / total\n",
        "    class_accuracy = {classname: 100 * float(correct_pred[classname]) / total_pred[classname] for classname in classes}\n",
        "    return accuracy, class_accuracy\n",
        "\n",
        "# Get accuracy for both models\n",
        "accuracy_1, class_accuracy_1 = evaluate_model(model_1, testloader)\n",
        "accuracy_2, class_accuracy_2 = evaluate_model(model_2, testloader)\n",
        "\n",
        "# Load the training loss data\n",
        "losses_1 = np.load(os.path.join(model_dir, 'losses_1.npy'))\n",
        "losses_2 = np.load(os.path.join(model_dir, 'losses_2.npy'))\n",
        "\n",
        "# Plot overall accuracy comparison\n",
        "plt.figure(figsize=(8, 6))\n",
        "plt.bar(['Model 1', 'Model 2'], [accuracy_1, accuracy_2], color=['blue', 'orange'])\n",
        "plt.xlabel('Models')\n",
        "plt.ylabel('Accuracy (%)')\n",
        "plt.title('Overall Accuracy Comparison')\n",
        "plt.ylim(0, 100)\n",
        "plt.show()\n",
        "\n"
      ],
      "metadata": {
        "colab": {
          "base_uri": "https://localhost:8080/",
          "height": 564
        },
        "id": "d237_B7VVRnZ",
        "outputId": "562ee918-cacd-4e25-cc22-be0592a7b400"
      },
      "execution_count": 11,
      "outputs": [
        {
          "output_type": "display_data",
          "data": {
            "text/plain": [
              "<Figure size 800x600 with 1 Axes>"
            ],
            "image/png": "[encoded data removed]"
          },
          "metadata": {}
        }
      ]
    },
    {
      "cell_type": "code",
      "source": [
        "#Plot training loss over epochs for both models\n",
        "plt.figure(figsize=(10, 6))\n",
        "plt.plot(losses_1, label='Model 1 Loss', color='blue')\n",
        "plt.plot(losses_2, label='Model 2 Loss', color='orange')\n",
        "plt.xlabel('Epoch')\n",
        "plt.ylabel('Loss')\n",
        "plt.title('Training Loss Over Epochs')\n",
        "plt.legend()\n",
        "plt.show()"
      ],
      "metadata": {
        "colab": {
          "base_uri": "https://localhost:8080/",
          "height": 564
        },
        "id": "QfPvWamn_ClN",
        "outputId": "b11b02a9-a32b-4bb5-a4b5-8e2d001097ec"
      },
      "execution_count": 9,
      "outputs": [
        {
          "output_type": "display_data",
          "data": {
            "text/plain": [
              "<Figure size 1000x600 with 1 Axes>"
            ],
            "image/png": "[encoded data removed]"
          },
          "metadata": {}
        }
      ]
    },
    {
      "cell_type": "code",
      "source": [
        "# Print classification report for both models\n",
        "def print_classification_report(model, testloader, title):\n",
        "    all_preds = []\n",
        "    all_labels = []\n",
        "\n",
        "    with torch.no_grad():\n",
        "        for data in testloader:\n",
        "            images, labels = data\n",
        "            outputs = model(images)\n",
        "            _, predictions = torch.max(outputs, 1)\n",
        "            all_preds.extend(predictions.numpy())\n",
        "            all_labels.extend(labels.numpy())\n",
        "\n",
        "    report = classification_report(all_labels, all_preds, target_names=classes, zero_division=0)\n",
        "    print(title)\n",
        "    print(report)\n",
        "\n",
        "print_classification_report(model_1, testloader, 'Classification Report for Model 1')"
      ],
      "metadata": {
        "colab": {
          "base_uri": "https://localhost:8080/"
        },
        "id": "23rPyoWK_RrJ",
        "outputId": "b70bf0a9-5774-4223-d6c8-528e8921f3e9"
      },
      "execution_count": 10,
      "outputs": [
        {
          "output_type": "stream",
          "name": "stdout",
          "text": [
            "Classification Report for Model 1\n",
            "              precision    recall  f1-score   support\n",
            "\n",
            "        rock       0.40      1.00      0.57         6\n",
            "       paper       0.67      0.33      0.44         6\n",
            "    scissors       0.00      0.00      0.00         6\n",
            "\n",
            "    accuracy                           0.44        18\n",
            "   macro avg       0.36      0.44      0.34        18\n",
            "weighted avg       0.36      0.44      0.34        18\n",
            "\n"
          ]
        }
      ]
    },
    {
      "cell_type": "code",
      "source": [
        "print_classification_report(model_2, testloader, 'Classification Report for Model 2')"
      ],
      "metadata": {
        "colab": {
          "base_uri": "https://localhost:8080/"
        },
        "id": "HcLXhl_8_R0x",
        "outputId": "39d4e37c-c0a7-44d5-b9d9-6b09989d9e52"
      },
      "execution_count": 6,
      "outputs": [
        {
          "output_type": "stream",
          "name": "stdout",
          "text": [
            "Classification Report for Model 2\n",
            "              precision    recall  f1-score   support\n",
            "\n",
            "        rock       0.43      0.50      0.46         6\n",
            "       paper       0.36      0.67      0.47         6\n",
            "    scissors       0.00      0.00      0.00         6\n",
            "\n",
            "    accuracy                           0.39        18\n",
            "   macro avg       0.26      0.39      0.31        18\n",
            "weighted avg       0.26      0.39      0.31        18\n",
            "\n"
          ]
        }
      ]
    }
  ]
}