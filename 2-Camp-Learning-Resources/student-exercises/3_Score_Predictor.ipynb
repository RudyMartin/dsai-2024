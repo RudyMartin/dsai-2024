{
  "nbformat": 4,
  "nbformat_minor": 0,
  "metadata": {
    "colab": {
      "provenance": [],
      "authorship_tag": "ABX9TyPKHXZI9Xu9vwCPUuWbKllq",
      "include_colab_link": true
    },
    "kernelspec": {
      "name": "python3",
      "display_name": "Python 3"
    },
    "language_info": {
      "name": "python"
    }
  },
  "cells": [
    {
      "cell_type": "markdown",
      "metadata": {
        "id": "view-in-github",
        "colab_type": "text"
      },
      "source": [
        "<a href=\"https://colab.research.google.com/github/RudyMartin/dsai-2024/blob/main/3_Score_Predictor.ipynb\" target=\"_parent\"><img src=\"https://colab.research.google.com/assets/colab-badge.svg\" alt=\"Open In Colab\"/></a>"
      ]
    },
    {
      "cell_type": "markdown",
      "source": [
        "**3. Simple Linear Regression**\n",
        "\n",
        "This tutorial introduces students to data visualization by plotting a simple line graph of temperatures over a week."
      ],
      "metadata": {
        "id": "YUCVVjsM7M90"
      }
    },
    {
      "cell_type": "code",
      "execution_count": null,
      "metadata": {
        "id": "8WBVwUoc69Wg"
      },
      "outputs": [],
      "source": [
        "import numpy as np\n",
        "import matplotlib.pyplot as plt\n",
        "from sklearn.linear_model import LinearRegression\n",
        "\n",
        "# TODO: use scikit learn to create a simple regression\n",
        "# plot actual vs predicted\n",
        "\n",
        "\n",
        "# Data: Hours Studied vs Exam Scores\n",
        "hours_studied = np.array([1, 2, 3, 4, 5, 6, 7, 8, 9]).reshape(-1, 1)\n",
        "exam_scores = np.array([55, 60, 65, 65, 70, 75, 76, 77, 80])\n",
        "\n",
        "# Creating a linear regression model\n",
        "############# Your code here ############\n",
        "\n",
        "\n",
        "\n",
        "\n",
        "\n",
        "#########################################\n",
        "\n",
        "# Plotting\n",
        "# plt.scatter(hours_studied, exam_scores, color='blue', label='Actual Scores')\n",
        "# plt.plot(hours_studied, predicted_scores, color='red', label='Predicted Scores')\n",
        "# plt.title('Hours Studied vs Exam Scores')\n",
        "# plt.xlabel('Hours Studied')\n",
        "# plt.ylabel('Exam Scores')\n",
        "# plt.legend()\n",
        "# plt.show()\n",
        "\n",
        "\n",
        "\n"
      ]
    }
  ]
}