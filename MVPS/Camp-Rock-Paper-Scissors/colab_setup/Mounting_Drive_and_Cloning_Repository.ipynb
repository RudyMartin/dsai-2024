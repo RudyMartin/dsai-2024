{
  "cells": [
    {
      "cell_type": "markdown",
      "metadata": {
        "id": "view-in-github",
        "colab_type": "text"
      },
      "source": [
        "<a href=\"https://colab.research.google.com/github.com/RudyMartin/dsai-2024/blob/main/MVPS/Camp-Rock-Paper-Scissors/colab_setup/Mounting_Drive_and_Cloning_Repository.ipynb\" target=\"_parent\"><img src=\"https://colab.research.google.com/assets/colab-badge.svg\" alt=\"Open In Colab\"/></a>"
      ]
    },
    {
      "cell_type": "markdown",
      "metadata": {
        "id": "XyNgFUsfpmsb"
      },
      "source": [
        "# Introduction\n",
        "\n",
        "This notebook will help you setup Colab by mounting your Google Drive, creating a directory for the camp repository, and cloning a copy of the repository.   so that:\n",
        "\n",
        "* The GitHub repository, including all notebooks, data, and projects will be easy to download to the drive.\n",
        "* All the examples and projects that need data or other files can access them in the place they are expected to be. (No worrying about where certain files were downloaded, etc.\n",
        "* It is easy to Colab notebooks.\n",
        "\n"
      ]
    },
    {
      "cell_type": "markdown",
      "metadata": {
        "id": "QFTGPT0OrWZZ"
      },
      "source": [
        "# Step 1: Mount Google Drive\n",
        "\n",
        "This step mounts the user's Google Drive into the notebook's (virtual) file system.\n",
        "\n",
        "Note in the first step, Colab will require a code to authorize access:\n",
        "\n",
        "1.  A new URL will be displayed.  You should click on this link.\n",
        "2. This will take you to a page, where you select the correct Google Account, which should be the same as you are using to run this notebook.\n",
        "3. On the next screen, you can view and accept the permissions Colab is requesting.  \n",
        "4. Once you accept the permissions, a code will be generated.  Copy that code, and paste it into the prompt in the cell below.\n",
        "\n",
        "This will mount the Google Drive.\n",
        "\n",
        "**Note:** This first step should be carried out in each notebook that needs to use any data.  The permissions will last for a fixed duration, so if the notebook is unable to access data as expected, it may be necessary to re-run this step."
      ]
    },
    {
      "cell_type": "code",
      "execution_count": 1,
      "metadata": {
        "id": "a94f4LLvuATk",
        "colab": {
          "base_uri": "https://localhost:8080/"
        },
        "outputId": "08d4ddbb-e2f7-45c8-9106-2bdf9239eefc"
      },
      "outputs": [
        {
          "output_type": "stream",
          "name": "stdout",
          "text": [
            "Mounted at /content/gdrive\n"
          ]
        }
      ],
      "source": [
        "## This is a goodle\n",
        "from google.colab import drive\n",
        "drive.mount(\"/content/gdrive\", force_remount=True)"
      ]
    },
    {
      "cell_type": "markdown",
      "metadata": {
        "id": "MpHlr0B7scOQ"
      },
      "source": [
        "# Step 2: Create a Directory for the Camp Material\n",
        "\n",
        "Explore and navigate the newly mounted drive.  This will automatically create a folder `dscamp` on your Google Drive in which to store camp materials."
      ]
    },
    {
      "cell_type": "code",
      "execution_count": 2,
      "metadata": {
        "colab": {
          "base_uri": "https://localhost:8080/"
        },
        "id": "fj0abQ5vuPWw",
        "outputId": "7d1fc7ed-f227-476a-a6bc-137026000904"
      },
      "outputs": [
        {
          "output_type": "stream",
          "name": "stdout",
          "text": [
            "\u001b[0m\u001b[01;34mgdrive\u001b[0m/  \u001b[01;34msample_data\u001b[0m/\n"
          ]
        }
      ],
      "source": [
        "## Look at the current directory\n",
        "%ls"
      ]
    },
    {
      "cell_type": "code",
      "execution_count": 3,
      "metadata": {
        "id": "9yIiLrbzwFek"
      },
      "outputs": [],
      "source": [
        "## Create a folder on Drive to store the repository\n",
        "%mkdir 'gdrive/My Drive/dsai-2024'"
      ]
    },
    {
      "cell_type": "code",
      "execution_count": 4,
      "metadata": {
        "colab": {
          "base_uri": "https://localhost:8080/"
        },
        "id": "EyI4bnz-vYz6",
        "outputId": "204974c1-6b57-4d71-bd6f-adb5daba3a9a"
      },
      "outputs": [
        {
          "output_type": "stream",
          "name": "stdout",
          "text": [
            "/content/gdrive/My Drive/dsai-2024\n"
          ]
        }
      ],
      "source": [
        "## Change the current dire\n",
        "%cd 'gdrive/My Drive/dsai-2024'"
      ]
    },
    {
      "cell_type": "markdown",
      "metadata": {
        "id": "XMBB58PKsvOO"
      },
      "source": [
        "# Step 3: Clone the Git Repository Folder\n",
        "\n",
        "This will create a clone of the Git Repository in the `dsai-2024` folder, so all the materials should be downloaded from only \"MVPS\"."
      ]
    },
    {
      "cell_type": "code",
      "execution_count": 5,
      "metadata": {
        "colab": {
          "base_uri": "https://localhost:8080/"
        },
        "id": "M-S1WGSPumv5",
        "outputId": "90fc651e-4005-442f-af6d-511150032167"
      },
      "outputs": [
        {
          "output_type": "stream",
          "name": "stdout",
          "text": [
            "\u001b[33mhint: Using 'master' as the name for the initial branch. This default branch name\u001b[m\n",
            "\u001b[33mhint: is subject to change. To configure the initial branch name to use in all\u001b[m\n",
            "\u001b[33mhint: of your new repositories, which will suppress this warning, call:\u001b[m\n",
            "\u001b[33mhint: \u001b[m\n",
            "\u001b[33mhint: \tgit config --global init.defaultBranch <name>\u001b[m\n",
            "\u001b[33mhint: \u001b[m\n",
            "\u001b[33mhint: Names commonly chosen instead of 'master' are 'main', 'trunk' and\u001b[m\n",
            "\u001b[33mhint: 'development'. The just-created branch can be renamed via this command:\u001b[m\n",
            "\u001b[33mhint: \u001b[m\n",
            "\u001b[33mhint: \tgit branch -m <name>\u001b[m\n",
            "Initialized empty Git repository in /content/gdrive/My Drive/dsai-2024/.git/\n",
            "Updating origin\n",
            "remote: Enumerating objects: 552, done.\u001b[K\n",
            "remote: Counting objects: 100% (71/71), done.\u001b[K\n",
            "remote: Compressing objects: 100% (68/68), done.\u001b[K\n",
            "remote: Total 552 (delta 34), reused 21 (delta 2), pack-reused 481\u001b[K\n",
            "Receiving objects: 100% (552/552), 400.54 MiB | 14.54 MiB/s, done.\n",
            "Resolving deltas: 100% (228/228), done.\n",
            "From https://github.com/RudyMartin/dsai-2024\n",
            " * [new branch]      main       -> origin/main\n",
            "From https://github.com/RudyMartin/dsai-2024\n",
            " * branch            main       -> FETCH_HEAD\n",
            "Updating files: 100% (66/66), done.\n"
          ]
        }
      ],
      "source": [
        "# Initialize a new Git repository\n",
        "!git init\n",
        "\n",
        "# Add the remote repository\n",
        "!git remote add -f origin https://github.com/RudyMartin/dsai-2024.git\n",
        "\n",
        "# Enable the sparse-checkout feature\n",
        "!git config core.sparseCheckout true\n",
        "\n",
        "# Specify the folder you want to clone\n",
        "!echo \"MVPS\" >> .git/info/sparse-checkout\n",
        "\n",
        "# Pull the specified folder\n",
        "!git pull origin main\n"
      ]
    },
    {
      "cell_type": "code",
      "execution_count": 6,
      "metadata": {
        "colab": {
          "base_uri": "https://localhost:8080/"
        },
        "id": "1oFo95OYu4W4",
        "outputId": "0a26a8eb-ab6d-4920-82a3-a7ad3c8c2b17"
      },
      "outputs": [
        {
          "output_type": "stream",
          "name": "stdout",
          "text": [
            "\u001b[0m\u001b[01;34m'Camp Rock Paper Scissors'\u001b[0m/   \u001b[01;34mSession-Materials\u001b[0m/   \u001b[01;34mStudent-Exercises\u001b[0m/   \u001b[01;34mStudent-Presentations\u001b[0m/\n"
          ]
        }
      ],
      "source": [
        "%ls MVPS"
      ]
    },
    {
      "cell_type": "markdown",
      "metadata": {
        "id": "ZQHz1y3ytUz6"
      },
      "source": [
        "# Step 4 (Optional) Un-mount the Drive\n",
        "\n",
        "Below is the command to unmount the drive."
      ]
    },
    {
      "cell_type": "code",
      "execution_count": null,
      "metadata": {
        "id": "1M9gyBATwW2C"
      },
      "outputs": [],
      "source": [
        "## Unmount your drive when finished\n",
        "drive.flush_and_unmount()"
      ]
    },
    {
      "cell_type": "code",
      "execution_count": null,
      "metadata": {
        "id": "Ew8ofHVkteKs"
      },
      "outputs": [],
      "source": []
    }
  ],
  "metadata": {
    "colab": {
      "provenance": [],
      "include_colab_link": true
    },
    "kernelspec": {
      "display_name": "Python 3",
      "language": "python",
      "name": "python3"
    },
    "language_info": {
      "codemirror_mode": {
        "name": "ipython",
        "version": 3
      },
      "file_extension": ".py",
      "mimetype": "text/x-python",
      "name": "python",
      "nbconvert_exporter": "python",
      "pygments_lexer": "ipython3",
      "version": "3.8.5"
    },
    "varInspector": {
      "cols": {
        "lenName": 16,
        "lenType": 16,
        "lenVar": 40
      },
      "kernels_config": {
        "python": {
          "delete_cmd_postfix": "",
          "delete_cmd_prefix": "del ",
          "library": "var_list.py",
          "varRefreshCmd": "print(var_dic_list())"
        },
        "r": {
          "delete_cmd_postfix": ") ",
          "delete_cmd_prefix": "rm(",
          "library": "var_list.r",
          "varRefreshCmd": "cat(var_dic_list()) "
        }
      },
      "types_to_exclude": [
        "module",
        "function",
        "builtin_function_or_method",
        "instance",
        "_Feature"
      ],
      "window_display": false
    }
  },
  "nbformat": 4,
  "nbformat_minor": 0
}
