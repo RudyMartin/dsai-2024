{
  "nbformat": 4,
  "nbformat_minor": 0,
  "metadata": {
    "colab": {
      "provenance": [],
      "authorship_tag": "ABX9TyNgXIXjguXHxSXj9fEECRMT",
      "include_colab_link": true
    },
    "kernelspec": {
      "name": "python3",
      "display_name": "Python 3"
    },
    "language_info": {
      "name": "python"
    }
  },
  "cells": [
    {
      "cell_type": "markdown",
      "metadata": {
        "id": "view-in-github",
        "colab_type": "text"
      },
      "source": [
        "<a href=\"https://colab.research.google.com/github/RudyMartin/dsai-2024/blob/main/MVPS/Camp-Rock-Paper-Scissors/team_GG_AI/gestures_game.ipynb\" target=\"_parent\"><img src=\"https://colab.research.google.com/assets/colab-badge.svg\" alt=\"Open In Colab\"/></a>"
      ]
    },
    {
      "cell_type": "code",
      "execution_count": null,
      "metadata": {
        "id": "8o1YUGAkuWYY"
      },
      "outputs": [],
      "source": []
    },
    {
      "cell_type": "code",
      "source": [
        "!pip install pygame"
      ],
      "metadata": {
        "colab": {
          "base_uri": "https://localhost:8080/"
        },
        "id": "_TtjrKJmuXmX",
        "outputId": "6440ed66-711d-4107-dd43-6b24e2f18810"
      },
      "execution_count": null,
      "outputs": [
        {
          "output_type": "stream",
          "name": "stdout",
          "text": [
            "Requirement already satisfied: pygame in /usr/local/lib/python3.10/dist-packages (2.6.0)\n"
          ]
        }
      ]
    },
    {
      "cell_type": "code",
      "source": [
        "import pygame\n",
        "import cv2\n",
        "import numpy as np\n",
        "from tensorflow.keras.models import load_model\n",
        "from threading import Thread\n",
        "\n",
        "# Initialize Pygame\n",
        "pygame.init()\n",
        "\n",
        "# Screen dimensions\n",
        "SCREEN_WIDTH = 800\n",
        "SCREEN_HEIGHT = 600\n",
        "\n",
        "# Colors\n",
        "WHITE = (255, 255, 255)\n",
        "BLACK = (0, 0, 0)\n",
        "\n",
        "# Create the screen object\n",
        "screen = pygame.display.set_mode((SCREEN_WIDTH, SCREEN_HEIGHT))\n",
        "pygame.display.set_caption('Head Gesture Control Game')\n",
        "\n",
        "# Define the player object by extending pygame.sprite.Sprite\n",
        "# The surface drawn on the screen is now an attribute of 'player'\n",
        "class Player(pygame.sprite.Sprite):\n",
        "    def __init__(self):\n",
        "        super(Player, self).__init__()\n",
        "        self.surf = pygame.Surface((50, 50))\n",
        "        self.surf.fill(WHITE)\n",
        "        self.rect = self.surf.get_rect()\n",
        "\n",
        "    def update(self, gesture):\n",
        "        if gesture == 0:  # Up\n",
        "            self.rect.move_ip(0, -5)\n",
        "        elif gesture == 1:  # Down\n",
        "            self.rect.move_ip(0, 5)\n",
        "        elif gesture == 2:  # Right\n",
        "            self.rect.move_ip(5, 0)\n",
        "        elif gesture == 3:  # Left\n",
        "            self.rect.move_ip(-5, 0)\n",
        "\n",
        "        # Keep player on the screen\n",
        "        if self.rect.left < 0:\n",
        "            self.rect.left = 0\n",
        "        if self.rect.right > SCREEN_WIDTH:\n",
        "            self.rect.right = SCREEN_WIDTH\n",
        "        if self.rect.top <= 0:\n",
        "            self.rect.top = 0\n",
        "        if self.rect.bottom >= SCREEN_HEIGHT:\n",
        "            self.rect.bottom = SCREEN_HEIGHT\n",
        "\n",
        "# Initialize player\n",
        "player = Player()\n",
        "\n",
        "# Create groups to hold sprite objects\n",
        "all_sprites = pygame.sprite.Group()\n",
        "all_sprites.add(player)\n",
        "\n",
        "# Load the trained model\n",
        "model = load_model('head_gesture_model.keras')\n",
        "\n",
        "# Function to process webcam input and update gesture\n",
        "def gesture_recognition():\n",
        "    global gesture\n",
        "    cap = cv2.VideoCapture(0)\n",
        "    while running:\n",
        "        ret, frame = cap.read()\n",
        "        gray = cv2.cvtColor(frame, cv2.COLOR_BGR2GRAY)\n",
        "        resized = cv2.resize(gray, (64, 64))\n",
        "        input_frame = np.expand_dims(resized, axis=0)\n",
        "        input_frame = np.expand_dims(input_frame, axis=-1)\n",
        "        prediction = model.predict(input_frame)\n",
        "        gesture = np.argmax(prediction)\n",
        "        cv2.imshow('Webcam', frame)\n",
        "        if cv2.waitKey(1) & 0xFF == ord('q'):\n",
        "            break\n",
        "    cap.release()\n",
        "    cv2.destroyAllWindows()\n",
        "\n",
        "# Global variable to store the gesture\n",
        "gesture = -1\n",
        "running = True\n",
        "\n",
        "# Start the gesture recognition thread\n",
        "gesture_thread = Thread(target=gesture_recognition)\n",
        "gesture_thread.start()\n",
        "\n",
        "# Game loop\n",
        "clock = pygame.time.Clock()\n",
        "\n",
        "while running:\n",
        "    for event in pygame.event.get():\n",
        "        if event.type == pygame.QUIT:\n",
        "            running = False\n",
        "\n",
        "    # Update the player sprite based on the gesture\n",
        "    player.update(gesture)\n",
        "\n",
        "    # Fill the screen with black\n",
        "    screen.fill(BLACK)\n",
        "\n",
        "    # Draw all sprites\n",
        "    for entity in all_sprites:\n",
        "        screen.blit(entity.surf, entity.rect)\n",
        "\n",
        "    # Update the display\n",
        "    pygame.display.flip()\n",
        "\n",
        "    # Ensure the program maintains a rate of 30 frames per second\n",
        "    clock.tick(30)\n",
        "\n",
        "# Clean up\n",
        "running = False\n",
        "gesture_thread.join()\n",
        "pygame.quit()\n"
      ],
      "metadata": {
        "colab": {
          "base_uri": "https://localhost:8080/",
          "height": 376
        },
        "id": "e3IOcxifuXpN",
        "outputId": "f9ad1551-da8d-411b-ccd5-76c2783600f9"
      },
      "execution_count": null,
      "outputs": [
        {
          "output_type": "stream",
          "name": "stdout",
          "text": [
            "pygame 2.6.0 (SDL 2.28.4, Python 3.10.12)\n",
            "Hello from the pygame community. https://www.pygame.org/contribute.html\n"
          ]
        },
        {
          "output_type": "error",
          "ename": "ValueError",
          "evalue": "File not found: filepath=head_gesture_model.keras. Please ensure the file is an accessible `.keras` zip file.",
          "traceback": [
            "\u001b[0;31m---------------------------------------------------------------------------\u001b[0m",
            "\u001b[0;31mValueError\u001b[0m                                Traceback (most recent call last)",
            "\u001b[0;32m<ipython-input-1-fd76962897b5>\u001b[0m in \u001b[0;36m<cell line: 59>\u001b[0;34m()\u001b[0m\n\u001b[1;32m     57\u001b[0m \u001b[0;34m\u001b[0m\u001b[0m\n\u001b[1;32m     58\u001b[0m \u001b[0;31m# Load the trained model\u001b[0m\u001b[0;34m\u001b[0m\u001b[0;34m\u001b[0m\u001b[0m\n\u001b[0;32m---> 59\u001b[0;31m \u001b[0mmodel\u001b[0m \u001b[0;34m=\u001b[0m \u001b[0mload_model\u001b[0m\u001b[0;34m(\u001b[0m\u001b[0;34m'head_gesture_model.keras'\u001b[0m\u001b[0;34m)\u001b[0m\u001b[0;34m\u001b[0m\u001b[0;34m\u001b[0m\u001b[0m\n\u001b[0m\u001b[1;32m     60\u001b[0m \u001b[0;34m\u001b[0m\u001b[0m\n\u001b[1;32m     61\u001b[0m \u001b[0;31m# Function to process webcam input and update gesture\u001b[0m\u001b[0;34m\u001b[0m\u001b[0;34m\u001b[0m\u001b[0m\n",
            "\u001b[0;32m/usr/local/lib/python3.10/dist-packages/keras/src/saving/saving_api.py\u001b[0m in \u001b[0;36mload_model\u001b[0;34m(filepath, custom_objects, compile, safe_mode)\u001b[0m\n\u001b[1;32m    191\u001b[0m         )\n\u001b[1;32m    192\u001b[0m     \u001b[0;32melif\u001b[0m \u001b[0mstr\u001b[0m\u001b[0;34m(\u001b[0m\u001b[0mfilepath\u001b[0m\u001b[0;34m)\u001b[0m\u001b[0;34m.\u001b[0m\u001b[0mendswith\u001b[0m\u001b[0;34m(\u001b[0m\u001b[0;34m\".keras\"\u001b[0m\u001b[0;34m)\u001b[0m\u001b[0;34m:\u001b[0m\u001b[0;34m\u001b[0m\u001b[0;34m\u001b[0m\u001b[0m\n\u001b[0;32m--> 193\u001b[0;31m         raise ValueError(\n\u001b[0m\u001b[1;32m    194\u001b[0m             \u001b[0;34mf\"File not found: filepath={filepath}. \"\u001b[0m\u001b[0;34m\u001b[0m\u001b[0;34m\u001b[0m\u001b[0m\n\u001b[1;32m    195\u001b[0m             \u001b[0;34m\"Please ensure the file is an accessible `.keras` \"\u001b[0m\u001b[0;34m\u001b[0m\u001b[0;34m\u001b[0m\u001b[0m\n",
            "\u001b[0;31mValueError\u001b[0m: File not found: filepath=head_gesture_model.keras. Please ensure the file is an accessible `.keras` zip file."
          ]
        }
      ]
    },
    {
      "cell_type": "code",
      "source": [],
      "metadata": {
        "id": "oNNsBKzDuXsE"
      },
      "execution_count": null,
      "outputs": []
    },
    {
      "cell_type": "code",
      "source": [],
      "metadata": {
        "id": "Ox8wDER9uXvM"
      },
      "execution_count": null,
      "outputs": []
    },
    {
      "cell_type": "code",
      "source": [],
      "metadata": {
        "id": "YVVAsZOUuXyE"
      },
      "execution_count": null,
      "outputs": []
    },
    {
      "cell_type": "code",
      "source": [],
      "metadata": {
        "id": "f508kxCauX0q"
      },
      "execution_count": null,
      "outputs": []
    },
    {
      "cell_type": "code",
      "source": [],
      "metadata": {
        "id": "JHdVakY4uX3y"
      },
      "execution_count": null,
      "outputs": []
    },
    {
      "cell_type": "code",
      "source": [],
      "metadata": {
        "id": "YNnHNimwuX66"
      },
      "execution_count": null,
      "outputs": []
    },
    {
      "cell_type": "code",
      "source": [],
      "metadata": {
        "id": "fqhJ4rWNuX-C"
      },
      "execution_count": null,
      "outputs": []
    }
  ]
}