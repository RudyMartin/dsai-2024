{
  "nbformat": 4,
  "nbformat_minor": 0,
  "metadata": {
    "colab": {
      "provenance": [],
      "authorship_tag": "ABX9TyNQwAGxpzT7cwPPgmbFA40J",
      "include_colab_link": true
    },
    "kernelspec": {
      "name": "python3",
      "display_name": "Python 3"
    },
    "language_info": {
      "name": "python"
    }
  },
  "cells": [
    {
      "cell_type": "markdown",
      "metadata": {
        "id": "view-in-github",
        "colab_type": "text"
      },
      "source": [
        "<a href=\"https://colab.research.google.com/github/RudyMartin/dsai-2024/blob/main/Answer_1_StatsSnap.ipynb\" target=\"_parent\"><img src=\"https://colab.research.google.com/assets/colab-badge.svg\" alt=\"Open In Colab\"/></a>"
      ]
    },
    {
      "cell_type": "markdown",
      "source": [
        "**1. Exploring Basic Statistics with Python**\n",
        "\n",
        "This example demonstrates how to calculate basic statistics such as mean, median, and standard deviation using Python."
      ],
      "metadata": {
        "id": "LqWjLmiD0-NY"
      }
    },
    {
      "cell_type": "code",
      "source": [
        "import numpy as np\n",
        "\n",
        "# TODO: print basic statistics such as mean, median, and standard deviation\n",
        "# using Python.  Also calculate and print minimum and maximum .\n",
        "\n",
        "# Generating a random dataset\n",
        "data = np.random.randint(1, 100, size=50)\n",
        "\n",
        "# Calculating basic statistics\n",
        "mean_value = np.mean(data)\n",
        "median_value = np.median(data)\n",
        "std_deviation = np.std(data)\n",
        "min_value = np.min(data)  # Minimum value in the dataset\n",
        "max_value = np.max(data)  # Maximum value in the dataset\n",
        "\n",
        "# Printing the statistics\n",
        "print(\"Generated Data: \", data)\n",
        "print(\"Mean: \", mean_value)\n",
        "print(\"Median: \", median_value)\n",
        "print(\"Standard Deviation: \", std_deviation)\n",
        "print(\"Minimum: \", min_value)\n",
        "print(\"Maximum: \", max_value)\n"
      ],
      "metadata": {
        "colab": {
          "base_uri": "https://localhost:8080/"
        },
        "id": "kMvlEGdf1BZz",
        "outputId": "a606b3c3-12cb-45c0-bccd-3addd282faf7"
      },
      "execution_count": null,
      "outputs": [
        {
          "output_type": "stream",
          "name": "stdout",
          "text": [
            "Generated Data:  [53 63 78  8 66 61 30 71 61 22 94 33 26 37  4 38 21 26 68 87 86 28 34 76\n",
            " 83  3 51 83  6 60 13 46 92 19 71 50  3 40 89 80 42 47  9 96 48 57 15 97\n",
            " 11 97]\n",
            "Mean:  49.58\n",
            "Median:  49.0\n",
            "Standard Deviation:  29.217864398343696\n"
          ]
        }
      ]
    },
    {
      "cell_type": "markdown",
      "source": [],
      "metadata": {
        "id": "_aoR96_I08Eb"
      }
    }
  ]
}