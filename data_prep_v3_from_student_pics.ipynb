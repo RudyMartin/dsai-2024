{
  "cells": [
    {
      "cell_type": "markdown",
      "metadata": {
        "id": "view-in-github",
        "colab_type": "text"
      },
      "source": [
        "<a href=\"https://colab.research.google.com/github/RudyMartin/dsai-2024/blob/main/data_prep_v3_from_student_pics.ipynb\" target=\"_parent\"><img src=\"https://colab.research.google.com/assets/colab-badge.svg\" alt=\"Open In Colab\"/></a>"
      ]
    },
    {
      "cell_type": "markdown",
      "metadata": {
        "id": "5mbr2A3fUaoF"
      },
      "source": [
        "# Data Preparation.\n",
        " - updated Aug 3, 2024"
      ]
    },
    {
      "cell_type": "markdown",
      "metadata": {
        "id": "LDTcEIW5sqoc"
      },
      "source": [
        "## Introduction"
      ]
    },
    {
      "cell_type": "markdown",
      "metadata": {
        "id": "loN25193MvNe"
      },
      "source": [
        "The first part of building any AI model is finding appropriate data. For your project, the model will be classifying images, so your data should be images as well. In this module, you will learn how to obtain your data using different methods and process it, so it is ready to be ingested by the model."
      ]
    },
    {
      "cell_type": "markdown",
      "metadata": {
        "id": "RZfLtVHjskyG"
      },
      "source": [
        "## Image Representation"
      ]
    },
    {
      "cell_type": "markdown",
      "metadata": {
        "id": "rfqW5GzYsxqi"
      },
      "source": [
        "Most of the digital images available today are represented in __raster__ format. Raster image contains a two-dimensional table of _pixels_ - small squared (or rectangular) shape elements of the image."
      ]
    },
    {
      "cell_type": "markdown",
      "metadata": {
        "id": "GfhI8S5XYY_A"
      },
      "source": [
        "![](https://drive.google.com/uc?export=view&id=1AeC4a6YCNDBFm3ArdyiKgM7rCHn92xg1)"
      ]
    },
    {
      "cell_type": "markdown",
      "metadata": {
        "id": "vFmpeclBYZPF"
      },
      "source": [
        "There are various ways the information can be embedded into pixel, however we will use the most popular method of RGB, representing three-sized tuple of Red, Green, and Blue intensities.\n"
      ]
    },
    {
      "cell_type": "markdown",
      "metadata": {
        "id": "3cAC7YHlZsdJ"
      },
      "source": [
        "![](https://drive.google.com/uc?export=view&id=1yjsqrUxGGecJXvrwFHSX6ZJ1jrjUK11R)"
      ]
    },
    {
      "cell_type": "markdown",
      "metadata": {
        "id": "8M1H2EhOZmcp"
      },
      "source": [
        "In other words, every pixel is a sequence of three numbers (usually from 0 to 255) and image is a table of pixels."
      ]
    },
    {
      "cell_type": "markdown",
      "metadata": {
        "id": "o6ijjQJzZtDX"
      },
      "source": [
        "![](https://drive.google.com/uc?export=view&id=1Hi3HFJU-yXJX1vtd7lyhIBtSY5WEeXCW)"
      ]
    },
    {
      "cell_type": "markdown",
      "metadata": {
        "id": "SKGxI7WBZqQu"
      },
      "source": [
        "Hence, input representation for any colored image can be thought of as three-dimensional table, with dimensions ($width$, $height$, $3$), where ($width$, $height$) tuple is known as _image resolution_. The ratio of the two ($width/frac$) is known as aspect ratio."
      ]
    },
    {
      "cell_type": "markdown",
      "metadata": {
        "id": "5Es3tFiVsxwL"
      },
      "source": [
        "## Part 1: Obtaining Data. (Only run this if you do NOT have enough images)"
      ]
    },
    {
      "cell_type": "markdown",
      "metadata": {
        "id": "fMHrzXOBzKJg"
      },
      "source": [
        "There are various ways the data can be obtained for the project, however we will be focusing on two methods:\n",
        "\n",
        "1. Creating images using photo camera (such as the one you have in your phones).\n",
        "2. Creating snapshots from a video feed (which can be created using web camera).\n",
        "\n",
        "These methods have no meaningful advantages over each other for this project. You can use whichever is more preferrable to you or combination of both. Beloww is the sceleton code that you can use to prepare the data for data pre-processing."
      ]
    },
    {
      "cell_type": "markdown",
      "metadata": {
        "id": "OnEF_PC_0pdG"
      },
      "source": [
        "Mount your Google Drive using your Gmail account. Proceed to the folder where you will store the data for your project."
      ]
    },
    {
      "cell_type": "code",
      "execution_count": 1,
      "metadata": {
        "colab": {
          "base_uri": "https://localhost:8080/"
        },
        "id": "Sph5Z9AuWWaA",
        "outputId": "1b51e2c4-569f-441a-e010-05b470b1bfae"
      },
      "outputs": [
        {
          "output_type": "stream",
          "name": "stdout",
          "text": [
            "Mounted at /content/gdrive\n"
          ]
        }
      ],
      "source": [
        "### Name Project folder\n",
        "import os\n",
        "from google.colab import drive\n",
        "\n",
        "drive.mount(\"/content/gdrive\", force_remount=True)\n",
        "root_dir = \"/content/gdrive/My Drive/dsai-2024/MVPS\"\n",
        "proj_dir = os.path.join(root_dir, 'Camp-Rock-Paper-Scissors')\n",
        "os.chdir('/content/gdrive/My Drive/dsai-2024/MVPS/Camp-Rock-Paper-Scissors')\n",
        "\n",
        "rps_dir = os.path.join(proj_dir, 'rps') # this points to data folder\n",
        "train_dir = os.path.join(rps_dir, 'train')\n",
        "test_dir = os.path.join(rps_dir, 'test')\n",
        "model_dir = os.path.join(root_dir, 'model')\n",
        "\n",
        "# Define and create directories for rps\n",
        "for dir in ['train', 'test', 'model']:\n",
        "    os.makedirs(os.path.join(rps_dir, dir), exist_ok=True)\n",
        "\n",
        "# Define and create subdirectories for train and test\n",
        "for sub_dir in ['rock', 'paper', 'scissors']:\n",
        "    os.makedirs(os.path.join(train_dir, sub_dir), exist_ok=True)\n",
        "    os.makedirs(os.path.join(test_dir, sub_dir), exist_ok=True)"
      ]
    },
    {
      "cell_type": "markdown",
      "metadata": {
        "id": "OXTEAS3x6o3r"
      },
      "source": [
        "\n",
        "**Switching to the Project Folder and Creating Test Images**\n",
        "\n",
        "1. **Change to the Training or Testing Folder:**\n",
        "   First, navigate to the appropriate folder where you will be working. You can switch to either the training folder or the testing folder depending on your task. Here's an example of how to do it in code:\n",
        "   \n",
        "\n"
      ]
    },
    {
      "cell_type": "code",
      "execution_count": null,
      "metadata": {
        "colab": {
          "base_uri": "https://localhost:8080/"
        },
        "id": "2AUBkP5A5Ro_",
        "outputId": "f1dd844b-75bf-4acb-d4d1-8858f77e0527"
      },
      "outputs": [
        {
          "output_type": "stream",
          "name": "stdout",
          "text": [
            "/content/gdrive/My Drive/dsai-2024/MVPS/Camp-Rock-Paper-Scissors/rps/train\n",
            "\u001b[0m\u001b[01;34mpaper\u001b[0m/  \u001b[01;34mrock\u001b[0m/  \u001b[01;34mscissors\u001b[0m/\n"
          ]
        }
      ],
      "source": [
        "## pick either training or testing directory to send images\n",
        "%cd {train_dir}\n",
        "# or\n",
        "#%cd {train_dir}\n",
        "%ls"
      ]
    },
    {
      "cell_type": "markdown",
      "source": [
        "\n",
        "2. **Create Unique Test Images:**\n",
        "   You need to ensure you have unique test images, not duplicates. For testing, aim for 20% of the total images in your training set. This means if you have 10 images for each category (rock, paper, scissors) in your training set, you should create 4 unique test images for each category.\n",
        "\n",
        "   For example, if you have:\n",
        "   \n",
        "   - maxRock = 10 # rock images\n",
        "   - maxPaper = 10 # paper images\n",
        "   - maxScissors = 10 # scissors images\n",
        "\n",
        "   Likewise, You need to switch the folder to test and. create 4 unique test images for rocks, 4 for paper, and 4 for scissors.\n"
      ],
      "metadata": {
        "id": "FUcisYo2lXGC"
      }
    },
    {
      "cell_type": "markdown",
      "metadata": {
        "id": "d6FL03U20hIo"
      },
      "source": [
        "### Using Web Camera"
      ]
    },
    {
      "cell_type": "markdown",
      "metadata": {
        "id": "UPs9pJRr1Hvt"
      },
      "source": [
        "Run the following cell. It will create a function that will take a snapshot from your webcam by pressing a button and save the file in your current folder."
      ]
    },
    {
      "cell_type": "code",
      "execution_count": null,
      "metadata": {
        "id": "13JuqVJb5X_N"
      },
      "outputs": [],
      "source": [
        "from IPython.display import display, Javascript\n",
        "from google.colab.output import eval_js\n",
        "from base64 import b64decode\n",
        "\n",
        "def take_photo(filename='photo.jpg', quality=0.8):\n",
        "  js = Javascript('''\n",
        "    async function takePhoto(quality) {\n",
        "      const div = document.createElement('div');\n",
        "      const capture = document.createElement('button');\n",
        "      capture.textContent = 'Capture';\n",
        "      div.appendChild(capture);\n",
        "\n",
        "      const video = document.createElement('video');\n",
        "      video.style.display = 'block';\n",
        "      const stream = await navigator.mediaDevices.getUserMedia({video: true});\n",
        "\n",
        "      document.body.appendChild(div);\n",
        "      div.appendChild(video);\n",
        "      video.srcObject = stream;\n",
        "      await video.play();\n",
        "\n",
        "      // Resize the output to fit the video element.\n",
        "      google.colab.output.setIframeHeight(document.documentElement.scrollHeight, true);\n",
        "\n",
        "      // Wait for Capture to be clicked.\n",
        "      await new Promise((resolve) => capture.onclick = resolve);\n",
        "\n",
        "      const canvas = document.createElement('canvas');\n",
        "      canvas.width = video.videoWidth;\n",
        "      canvas.height = video.videoHeight;\n",
        "      canvas.getContext('2d').drawImage(video, 0, 0);\n",
        "      stream.getVideoTracks()[0].stop();\n",
        "      div.remove();\n",
        "      return canvas.toDataURL('image/jpeg', quality);\n",
        "    }\n",
        "    ''')\n",
        "  display(js)\n",
        "  data = eval_js('takePhoto({})'.format(quality))\n",
        "  binary = b64decode(data.split(',')[1])\n",
        "  with open(filename, 'wb') as f:\n",
        "    f.write(binary)\n",
        "  return filename"
      ]
    },
    {
      "cell_type": "markdown",
      "metadata": {
        "id": "haTeOqdS1ri8"
      },
      "source": [
        "Change the parameters in the cells to choose number of snapshots for each gesture. Run the cell and follow the prompt."
      ]
    },
    {
      "cell_type": "markdown",
      "metadata": {
        "id": "u5onYsw6aFum"
      },
      "source": [
        "![](https://drive.google.com/uc?export=view&id=1YrurRp9FYI3yGmzqqIG9wuPrIpBiAO1D)"
      ]
    },
    {
      "cell_type": "code",
      "execution_count": null,
      "metadata": {
        "colab": {
          "base_uri": "https://localhost:8080/",
          "height": 231
        },
        "id": "1KygbE7b5aJc",
        "outputId": "ecaa8c70-741f-40c7-8253-f793f2557dc0"
      },
      "outputs": [
        {
          "output_type": "stream",
          "name": "stdout",
          "text": [
            "Show Rock and press Capture!\n"
          ]
        },
        {
          "output_type": "display_data",
          "data": {
            "text/plain": [
              "<IPython.core.display.Javascript object>"
            ],
            "application/javascript": [
              "\n",
              "    async function takePhoto(quality) {\n",
              "      const div = document.createElement('div');\n",
              "      const capture = document.createElement('button');\n",
              "      capture.textContent = 'Capture';\n",
              "      div.appendChild(capture);\n",
              "\n",
              "      const video = document.createElement('video');\n",
              "      video.style.display = 'block';\n",
              "      const stream = await navigator.mediaDevices.getUserMedia({video: true});\n",
              "\n",
              "      document.body.appendChild(div);\n",
              "      div.appendChild(video);\n",
              "      video.srcObject = stream;\n",
              "      await video.play();\n",
              "\n",
              "      // Resize the output to fit the video element.\n",
              "      google.colab.output.setIframeHeight(document.documentElement.scrollHeight, true);\n",
              "\n",
              "      // Wait for Capture to be clicked.\n",
              "      await new Promise((resolve) => capture.onclick = resolve);\n",
              "\n",
              "      const canvas = document.createElement('canvas');\n",
              "      canvas.width = video.videoWidth;\n",
              "      canvas.height = video.videoHeight;\n",
              "      canvas.getContext('2d').drawImage(video, 0, 0);\n",
              "      stream.getVideoTracks()[0].stop();\n",
              "      div.remove();\n",
              "      return canvas.toDataURL('image/jpeg', quality);\n",
              "    }\n",
              "    "
            ]
          },
          "metadata": {}
        },
        {
          "output_type": "stream",
          "name": "stdout",
          "text": [
            "Saved to rock/rock_1\n",
            "Show Rock and press Capture!\n"
          ]
        },
        {
          "output_type": "display_data",
          "data": {
            "text/plain": [
              "<IPython.core.display.Javascript object>"
            ],
            "application/javascript": [
              "\n",
              "    async function takePhoto(quality) {\n",
              "      const div = document.createElement('div');\n",
              "      const capture = document.createElement('button');\n",
              "      capture.textContent = 'Capture';\n",
              "      div.appendChild(capture);\n",
              "\n",
              "      const video = document.createElement('video');\n",
              "      video.style.display = 'block';\n",
              "      const stream = await navigator.mediaDevices.getUserMedia({video: true});\n",
              "\n",
              "      document.body.appendChild(div);\n",
              "      div.appendChild(video);\n",
              "      video.srcObject = stream;\n",
              "      await video.play();\n",
              "\n",
              "      // Resize the output to fit the video element.\n",
              "      google.colab.output.setIframeHeight(document.documentElement.scrollHeight, true);\n",
              "\n",
              "      // Wait for Capture to be clicked.\n",
              "      await new Promise((resolve) => capture.onclick = resolve);\n",
              "\n",
              "      const canvas = document.createElement('canvas');\n",
              "      canvas.width = video.videoWidth;\n",
              "      canvas.height = video.videoHeight;\n",
              "      canvas.getContext('2d').drawImage(video, 0, 0);\n",
              "      stream.getVideoTracks()[0].stop();\n",
              "      div.remove();\n",
              "      return canvas.toDataURL('image/jpeg', quality);\n",
              "    }\n",
              "    "
            ]
          },
          "metadata": {}
        },
        {
          "output_type": "stream",
          "name": "stdout",
          "text": [
            "Saved to rock/rock_2\n",
            "Show Paper and press Capture!\n"
          ]
        },
        {
          "output_type": "display_data",
          "data": {
            "text/plain": [
              "<IPython.core.display.Javascript object>"
            ],
            "application/javascript": [
              "\n",
              "    async function takePhoto(quality) {\n",
              "      const div = document.createElement('div');\n",
              "      const capture = document.createElement('button');\n",
              "      capture.textContent = 'Capture';\n",
              "      div.appendChild(capture);\n",
              "\n",
              "      const video = document.createElement('video');\n",
              "      video.style.display = 'block';\n",
              "      const stream = await navigator.mediaDevices.getUserMedia({video: true});\n",
              "\n",
              "      document.body.appendChild(div);\n",
              "      div.appendChild(video);\n",
              "      video.srcObject = stream;\n",
              "      await video.play();\n",
              "\n",
              "      // Resize the output to fit the video element.\n",
              "      google.colab.output.setIframeHeight(document.documentElement.scrollHeight, true);\n",
              "\n",
              "      // Wait for Capture to be clicked.\n",
              "      await new Promise((resolve) => capture.onclick = resolve);\n",
              "\n",
              "      const canvas = document.createElement('canvas');\n",
              "      canvas.width = video.videoWidth;\n",
              "      canvas.height = video.videoHeight;\n",
              "      canvas.getContext('2d').drawImage(video, 0, 0);\n",
              "      stream.getVideoTracks()[0].stop();\n",
              "      div.remove();\n",
              "      return canvas.toDataURL('image/jpeg', quality);\n",
              "    }\n",
              "    "
            ]
          },
          "metadata": {}
        },
        {
          "output_type": "stream",
          "name": "stdout",
          "text": [
            "Saved to paper/paper_3\n",
            "Show Paper and press Capture!\n"
          ]
        },
        {
          "output_type": "display_data",
          "data": {
            "text/plain": [
              "<IPython.core.display.Javascript object>"
            ],
            "application/javascript": [
              "\n",
              "    async function takePhoto(quality) {\n",
              "      const div = document.createElement('div');\n",
              "      const capture = document.createElement('button');\n",
              "      capture.textContent = 'Capture';\n",
              "      div.appendChild(capture);\n",
              "\n",
              "      const video = document.createElement('video');\n",
              "      video.style.display = 'block';\n",
              "      const stream = await navigator.mediaDevices.getUserMedia({video: true});\n",
              "\n",
              "      document.body.appendChild(div);\n",
              "      div.appendChild(video);\n",
              "      video.srcObject = stream;\n",
              "      await video.play();\n",
              "\n",
              "      // Resize the output to fit the video element.\n",
              "      google.colab.output.setIframeHeight(document.documentElement.scrollHeight, true);\n",
              "\n",
              "      // Wait for Capture to be clicked.\n",
              "      await new Promise((resolve) => capture.onclick = resolve);\n",
              "\n",
              "      const canvas = document.createElement('canvas');\n",
              "      canvas.width = video.videoWidth;\n",
              "      canvas.height = video.videoHeight;\n",
              "      canvas.getContext('2d').drawImage(video, 0, 0);\n",
              "      stream.getVideoTracks()[0].stop();\n",
              "      div.remove();\n",
              "      return canvas.toDataURL('image/jpeg', quality);\n",
              "    }\n",
              "    "
            ]
          },
          "metadata": {}
        },
        {
          "output_type": "stream",
          "name": "stdout",
          "text": [
            "Saved to paper/paper_4\n",
            "Show Scissors and press Capture!\n"
          ]
        },
        {
          "output_type": "display_data",
          "data": {
            "text/plain": [
              "<IPython.core.display.Javascript object>"
            ],
            "application/javascript": [
              "\n",
              "    async function takePhoto(quality) {\n",
              "      const div = document.createElement('div');\n",
              "      const capture = document.createElement('button');\n",
              "      capture.textContent = 'Capture';\n",
              "      div.appendChild(capture);\n",
              "\n",
              "      const video = document.createElement('video');\n",
              "      video.style.display = 'block';\n",
              "      const stream = await navigator.mediaDevices.getUserMedia({video: true});\n",
              "\n",
              "      document.body.appendChild(div);\n",
              "      div.appendChild(video);\n",
              "      video.srcObject = stream;\n",
              "      await video.play();\n",
              "\n",
              "      // Resize the output to fit the video element.\n",
              "      google.colab.output.setIframeHeight(document.documentElement.scrollHeight, true);\n",
              "\n",
              "      // Wait for Capture to be clicked.\n",
              "      await new Promise((resolve) => capture.onclick = resolve);\n",
              "\n",
              "      const canvas = document.createElement('canvas');\n",
              "      canvas.width = video.videoWidth;\n",
              "      canvas.height = video.videoHeight;\n",
              "      canvas.getContext('2d').drawImage(video, 0, 0);\n",
              "      stream.getVideoTracks()[0].stop();\n",
              "      div.remove();\n",
              "      return canvas.toDataURL('image/jpeg', quality);\n",
              "    }\n",
              "    "
            ]
          },
          "metadata": {}
        },
        {
          "output_type": "stream",
          "name": "stdout",
          "text": [
            "Saved to scissors/scissors_5\n",
            "Show Scissors and press Capture!\n"
          ]
        },
        {
          "output_type": "display_data",
          "data": {
            "text/plain": [
              "<IPython.core.display.Javascript object>"
            ],
            "application/javascript": [
              "\n",
              "    async function takePhoto(quality) {\n",
              "      const div = document.createElement('div');\n",
              "      const capture = document.createElement('button');\n",
              "      capture.textContent = 'Capture';\n",
              "      div.appendChild(capture);\n",
              "\n",
              "      const video = document.createElement('video');\n",
              "      video.style.display = 'block';\n",
              "      const stream = await navigator.mediaDevices.getUserMedia({video: true});\n",
              "\n",
              "      document.body.appendChild(div);\n",
              "      div.appendChild(video);\n",
              "      video.srcObject = stream;\n",
              "      await video.play();\n",
              "\n",
              "      // Resize the output to fit the video element.\n",
              "      google.colab.output.setIframeHeight(document.documentElement.scrollHeight, true);\n",
              "\n",
              "      // Wait for Capture to be clicked.\n",
              "      await new Promise((resolve) => capture.onclick = resolve);\n",
              "\n",
              "      const canvas = document.createElement('canvas');\n",
              "      canvas.width = video.videoWidth;\n",
              "      canvas.height = video.videoHeight;\n",
              "      canvas.getContext('2d').drawImage(video, 0, 0);\n",
              "      stream.getVideoTracks()[0].stop();\n",
              "      div.remove();\n",
              "      return canvas.toDataURL('image/jpeg', quality);\n",
              "    }\n",
              "    "
            ]
          },
          "metadata": {}
        },
        {
          "output_type": "stream",
          "name": "stdout",
          "text": [
            "Saved to scissors/scissors_6\n"
          ]
        }
      ],
      "source": [
        "from IPython.display import Image\n",
        "\n",
        "### Choose these parameters\n",
        "# maxRock - number of images taken with \"rock\" gesture\n",
        "# maxPaper - number of images taken with \"paper\" gesture\n",
        "# maxScissors - number of images taken with \"scissors\" gesture\n",
        "###\n",
        "\n",
        "maxRock = 10 # rock images\n",
        "maxPaper = 10 # paper images\n",
        "maxScissors = 10 # scissors images\n",
        "\n",
        "### End initialization\n",
        "###\n",
        "try:\n",
        "  ct = int(1)\n",
        "  maxPaper = maxRock + maxPaper\n",
        "  maxScissors = maxPaper + maxScissors\n",
        "  while True:\n",
        "    if ct <= maxRock:\n",
        "      print(\"Show Rock and press Capture!\")\n",
        "      label = \"rock\"\n",
        "    elif ct <= maxPaper:\n",
        "      print(\"Show Paper and press Capture!\")\n",
        "      label = \"paper\"\n",
        "    else:\n",
        "      print(\"Show Scissors and press Capture!\")\n",
        "      label = \"scissors\"\n",
        "\n",
        "    filename = take_photo(label + \"/\" +label+'_'+str(ct))\n",
        "\n",
        "    print('Saved to {}'.format(filename))\n",
        "\n",
        "    ct += 1\n",
        "    if ct > maxScissors:\n",
        "      break\n",
        "except Exception as err:\n",
        "  # Errors will be thrown if the user does not have a webcam or if they do not\n",
        "  # grant the page permission to access it.\n",
        "  print(str(err))"
      ]
    },
    {
      "cell_type": "markdown",
      "metadata": {
        "id": "MwK198JZFGpf"
      },
      "source": [
        "### Using photo camera"
      ]
    },
    {
      "cell_type": "markdown",
      "metadata": {
        "id": "TRrqBcXBFPq0"
      },
      "source": [
        "0. If you have iPhone, please change File formats before you take pictures. In Settings -> Camera -> Formats, choose Most Compatible. You can change it back after pictures are taken.\n",
        "1. Make pictures of different gestures using you camera.\n",
        "2. Download and Install Google Drive App (if not already installed).\n",
        "3. Copy images in the respective folders.\n",
        "4. Run the cell below to rename files to general convention."
      ]
    },
    {
      "cell_type": "markdown",
      "metadata": {
        "id": "fsvlBb-3NFEO"
      },
      "source": [
        "## Creating Data Tips"
      ]
    },
    {
      "cell_type": "markdown",
      "metadata": {
        "id": "1dSD39QONJw0"
      },
      "source": [
        "1. Ensure image is of high quality and the gesture is discernible by human eye. If a human cannot classify the image, neither will machine!\n",
        "2. Keep background clean and the classification object large enough to improve quality of learning.\n",
        "  - If there are extraneous items in the background, the algorithm may incorrectly aim these items to be part of classification solution.\n",
        "  - If object is too small and not prominent, algorithm will tend to focus on background more, reducing accuracy.\n",
        "3. Ensure appropriate aspect ratio. Changing aspect ratio will stretch/shrink object on the image, which makes learning more difficult.\n",
        "4. Ensure labels are correct, i.e. appropriate images are stored in their respective folders."
      ]
    },
    {
      "cell_type": "markdown",
      "metadata": {
        "id": "Ohi10G-0Pd2X"
      },
      "source": [
        "## Part 2: Data pre-processing (Only run after ALL images have been loaded)"
      ]
    },
    {
      "cell_type": "code",
      "execution_count": null,
      "metadata": {
        "colab": {
          "base_uri": "https://localhost:8080/"
        },
        "id": "SJ66qokg_cav",
        "outputId": "32b05d33-97d4-4787-ad96-7bb67905edfa"
      },
      "outputs": [
        {
          "output_type": "stream",
          "name": "stdout",
          "text": [
            "Mounted at /content/gdrive\n",
            "'rps' directory contents: ['train', 'test', 'model']\n"
          ]
        }
      ],
      "source": [
        "### Name Project folder\n",
        "import os\n",
        "from google.colab import drive\n",
        "import datetime\n",
        "\n",
        "# Record the start time for performance evaluation\n",
        "start_time = datetime.datetime.now()\n",
        "\n",
        "drive.mount(\"/content/gdrive\", force_remount=True)\n",
        "root_dir = \"/content/gdrive/My Drive/\"\n",
        "rps_dir = os.path.join(root_dir, 'dsai-2024/MVPS/Camp-Rock-Paper-Scissors/rps')\n",
        "train_dir = os.path.join(rps_dir, 'train')\n",
        "test_dir = os.path.join(rps_dir, 'test')\n",
        "model_dir = os.path.join(root_dir, 'model')\n",
        "\n",
        "# Define and create directories for rps\n",
        "for dir in ['train', 'test', 'model']:\n",
        "    os.makedirs(os.path.join(rps_dir, dir), exist_ok=True)\n",
        "\n",
        "# Define and create subdirectories for train and test\n",
        "for sub_dir in ['rock', 'paper', 'scissors']:\n",
        "    os.makedirs(os.path.join(train_dir, sub_dir), exist_ok=True)\n",
        "    os.makedirs(os.path.join(test_dir, sub_dir), exist_ok=True)\n",
        "\n",
        "# Ensure the data directory exists\n",
        "if not os.path.exists(rps_dir):\n",
        "    raise FileNotFoundError(f\"Directory {rps_dir} does not exist.\")\n",
        "\n",
        "print(f\"'rps' directory contents: {os.listdir(rps_dir)}\")"
      ]
    },
    {
      "cell_type": "code",
      "execution_count": null,
      "metadata": {
        "colab": {
          "base_uri": "https://localhost:8080/"
        },
        "id": "kA7KUIxhM72E",
        "outputId": "9243c756-1b8c-4e32-c54e-9b90af201ef0"
      },
      "outputs": [
        {
          "output_type": "stream",
          "name": "stdout",
          "text": [
            "'rps' directory contents: ['train', 'test', 'model']\n"
          ]
        }
      ],
      "source": [
        "# Ensure the data directory exists\n",
        "if not os.path.exists(rps_dir):\n",
        "    raise FileNotFoundError(f\"Directory {rps_dir} does not exist.\")\n",
        "print(f\"'rps' directory contents: {os.listdir(rps_dir)}\")"
      ]
    },
    {
      "cell_type": "markdown",
      "metadata": {
        "id": "8ug7C86rPlCP"
      },
      "source": [
        "To uphold principle of fairness and simplify machine learning process, all images need to be converted into same file format (.jpg) and same resolution. Please run the cell below to convert the files to common format.\n",
        "\n",
        "Participants are also encouraged to manually edit the pictures, using tips above, to improve accuracy of their learning algorithm."
      ]
    },
    {
      "cell_type": "code",
      "execution_count": null,
      "metadata": {
        "colab": {
          "base_uri": "https://localhost:8080/"
        },
        "id": "IST58FcLR74A",
        "outputId": "d8066119-b332-4e80-8787-7591743d94a7"
      },
      "outputs": [
        {
          "output_type": "stream",
          "name": "stdout",
          "text": [
            "Train directory: /content/gdrive/My Drive/dsai-2024/MVPS/Camp-Rock-Paper-Scissors/rps/train\n",
            "Test directory: /content/gdrive/My Drive/dsai-2024/MVPS/Camp-Rock-Paper-Scissors/rps/test\n",
            "Number of train scissors images: 4\n",
            "Number of train rock images: 4\n",
            "Number of train paper images: 4\n",
            "Number of test scissors images: 0\n",
            "Number of test rock images: 0\n",
            "Number of test paper images: 0\n"
          ]
        }
      ],
      "source": [
        "# Load training data\n",
        "import glob\n",
        "\n",
        "print(f\"Train directory: {train_dir}\")\n",
        "print(f\"Test directory: {test_dir}\")\n",
        "\n",
        "print(f\"Number of train scissors images: {len(glob.glob(f'{train_dir}/paper/*.jpg'))}\")\n",
        "print(f\"Number of train rock images: {len(glob.glob(f'{train_dir}/rock/*.jpg'))}\")\n",
        "print(f\"Number of train paper images: {len(glob.glob(f'{train_dir}/paper/*.jpg'))}\")\n",
        "\n",
        "print(f\"Number of test scissors images: {len(glob.glob(f'{test_dir}/paper/*.jpg'))}\")\n",
        "print(f\"Number of test rock images: {len(glob.glob(f'{test_dir}/rock/*.jpg'))}\")\n",
        "print(f\"Number of test paper images: {len(glob.glob(f'{test_dir}/paper/*.jpg'))}\")\n",
        "\n",
        "## ORIGINAL PHOTOS DO NOT HAVE EXTENSION NAMES SO WILL NOT BE COUNTED (OK ZER) - BUT CHECK VISUALLY"
      ]
    },
    {
      "cell_type": "markdown",
      "metadata": {
        "id": "fhdJbLcDPDLn"
      },
      "source": [
        "Converts code and renames bad files with starting 'z' name."
      ]
    },
    {
      "cell_type": "code",
      "execution_count": null,
      "metadata": {
        "colab": {
          "base_uri": "https://localhost:8080/"
        },
        "id": "D2_ylBEyMBvU",
        "outputId": "7b1639df-dcf2-479d-9d05-632e38938851"
      },
      "outputs": [
        {
          "output_type": "stream",
          "name": "stdout",
          "text": [
            "Successfully Resized rock_1 and saved as rock_1.jpg\n",
            "Successfully Resized rock_2 and saved as rock_2.jpg\n",
            "Successfully Resized paper_3 and saved as paper_3.jpg\n",
            "Successfully Resized paper_4 and saved as paper_4.jpg\n",
            "Successfully Resized scissors_5 and saved as scissors_5.jpg\n",
            "Successfully Resized scissors_6 and saved as scissors_6.jpg\n",
            "Successfully Resized rock_4.jpg and saved as rock_4.jpg\n",
            "Successfully Resized rock_3.jpg and saved as rock_3.jpg\n",
            "Successfully Resized rock_1.jpg and saved as rock_1.jpg\n",
            "Successfully Resized rock_2.jpg and saved as rock_2.jpg\n",
            "Successfully Resized paper_1.jpg and saved as paper_1.jpg\n",
            "Successfully Resized paper_2.jpg and saved as paper_2.jpg\n",
            "Successfully Resized paper_3.jpg and saved as paper_3.jpg\n",
            "Successfully Resized paper_4.jpg and saved as paper_4.jpg\n",
            "Successfully Resized scissors_1.jpg and saved as scissors_1.jpg\n",
            "Successfully Resized scissors_3.jpg and saved as scissors_3.jpg\n",
            "Successfully Resized scissors_2.jpg and saved as scissors_2.jpg\n",
            "Successfully Resized scissors_4.jpg and saved as scissors_4.jpg\n"
          ]
        }
      ],
      "source": [
        "from os import listdir, rename\n",
        "from os.path import isfile, join\n",
        "from PIL import Image\n",
        "from os.path import splitext\n",
        "\n",
        "def process_images(proj_path):\n",
        "    for label in ['rock', 'paper', 'scissors']:\n",
        "        for i in [f for f in listdir(join(proj_path, label)) if isfile(join(proj_path, label, f))]:\n",
        "            file_path = join(proj_path, label, i)\n",
        "            file_name, file_ext = splitext(i)\n",
        "\n",
        "            try:\n",
        "                im = Image.open(file_path)\n",
        "                im = im.resize((640, 480))\n",
        "\n",
        "                if file_ext.lower() in ['.png', '.jpeg']:\n",
        "                    # Convert RGBA to RGB if the image has an alpha channel\n",
        "                    if im.mode == 'RGBA':\n",
        "                        im = im.convert('RGB')\n",
        "                    new_file_path = join(proj_path, label, f\"{file_name}.jpg\")\n",
        "                    im.save(new_file_path, 'jpeg')\n",
        "                    print(f\"Successfully Converted {i} to {file_name}.jpg\")\n",
        "                    # Optionally, remove the original file\n",
        "                    # os.remove(file_path)\n",
        "                else:\n",
        "                    new_file_path = join(proj_path, label, f\"{file_name}.jpg\")\n",
        "                    im.save(new_file_path, 'jpeg')\n",
        "                    print(f\"Successfully Resized {i} and saved as {file_name}.jpg\")\n",
        "\n",
        "            except Exception as e:\n",
        "                print(f\"Error processing file {i} at {file_path}: {e}\")\n",
        "                # Rename the problematic file with 'z_' prefix\n",
        "                new_file_path = join(proj_path, label, f\"z_{i}\")\n",
        "                rename(file_path, new_file_path)\n",
        "                print(f\"Renamed problematic file {i} to z_{i}\")\n",
        "\n",
        "# Example usage:\n",
        "\n",
        "process_images(test_dir)\n",
        "\n",
        "process_images(train_dir)"
      ]
    },
    {
      "cell_type": "markdown",
      "metadata": {
        "id": "fgoGbPWggXqQ"
      },
      "source": [
        "ONLY AFTER REVIEWING AND DELETING FILES - Then RENAME, REORDER remaining files to jpg - Wait 1-2 minutes between running this and prior section to be sure the Z files are no longer in folder."
      ]
    },
    {
      "cell_type": "code",
      "execution_count": null,
      "metadata": {
        "colab": {
          "base_uri": "https://localhost:8080/"
        },
        "id": "66mdVy8YPJNL",
        "outputId": "57f27de2-9e5c-4396-9ae4-062259f53101"
      },
      "outputs": [
        {
          "output_type": "stream",
          "name": "stdout",
          "text": [
            "Renamed /content/gdrive/My Drive/dsai-2024/MVPS/Camp-Rock-Paper-Scissors/rps/train/rock/temp_rock_00001.jpg to /content/gdrive/My Drive/dsai-2024/MVPS/Camp-Rock-Paper-Scissors/rps/train/rock/rock_1.jpg\n",
            "Renamed /content/gdrive/My Drive/dsai-2024/MVPS/Camp-Rock-Paper-Scissors/rps/train/rock/temp_rock_00002.jpg to /content/gdrive/My Drive/dsai-2024/MVPS/Camp-Rock-Paper-Scissors/rps/train/rock/rock_2.jpg\n",
            "Renamed /content/gdrive/My Drive/dsai-2024/MVPS/Camp-Rock-Paper-Scissors/rps/train/rock/temp_rock_00003.jpg to /content/gdrive/My Drive/dsai-2024/MVPS/Camp-Rock-Paper-Scissors/rps/train/rock/rock_3.jpg\n",
            "Renamed /content/gdrive/My Drive/dsai-2024/MVPS/Camp-Rock-Paper-Scissors/rps/train/rock/temp_rock_00004.jpg to /content/gdrive/My Drive/dsai-2024/MVPS/Camp-Rock-Paper-Scissors/rps/train/rock/rock_4.jpg\n",
            "Renamed /content/gdrive/My Drive/dsai-2024/MVPS/Camp-Rock-Paper-Scissors/rps/test/rock/temp_rock_00001.jpg to /content/gdrive/My Drive/dsai-2024/MVPS/Camp-Rock-Paper-Scissors/rps/test/rock/rock_1.jpg\n",
            "Renamed /content/gdrive/My Drive/dsai-2024/MVPS/Camp-Rock-Paper-Scissors/rps/test/rock/temp_rock_00002.jpg to /content/gdrive/My Drive/dsai-2024/MVPS/Camp-Rock-Paper-Scissors/rps/test/rock/rock_2.jpg\n",
            "Renamed /content/gdrive/My Drive/dsai-2024/MVPS/Camp-Rock-Paper-Scissors/rps/test/rock/temp_rock_00003.jpg to /content/gdrive/My Drive/dsai-2024/MVPS/Camp-Rock-Paper-Scissors/rps/test/rock/rock_3.jpg\n",
            "Renamed /content/gdrive/My Drive/dsai-2024/MVPS/Camp-Rock-Paper-Scissors/rps/test/rock/temp_rock_00004.jpg to /content/gdrive/My Drive/dsai-2024/MVPS/Camp-Rock-Paper-Scissors/rps/test/rock/rock_4.jpg\n",
            "Renamed /content/gdrive/My Drive/dsai-2024/MVPS/Camp-Rock-Paper-Scissors/rps/train/paper/temp_paper_00001.jpg to /content/gdrive/My Drive/dsai-2024/MVPS/Camp-Rock-Paper-Scissors/rps/train/paper/paper_1.jpg\n",
            "Renamed /content/gdrive/My Drive/dsai-2024/MVPS/Camp-Rock-Paper-Scissors/rps/train/paper/temp_paper_00002.jpg to /content/gdrive/My Drive/dsai-2024/MVPS/Camp-Rock-Paper-Scissors/rps/train/paper/paper_2.jpg\n",
            "Renamed /content/gdrive/My Drive/dsai-2024/MVPS/Camp-Rock-Paper-Scissors/rps/train/paper/temp_paper_00003.jpg to /content/gdrive/My Drive/dsai-2024/MVPS/Camp-Rock-Paper-Scissors/rps/train/paper/paper_3.jpg\n",
            "Renamed /content/gdrive/My Drive/dsai-2024/MVPS/Camp-Rock-Paper-Scissors/rps/train/paper/temp_paper_00004.jpg to /content/gdrive/My Drive/dsai-2024/MVPS/Camp-Rock-Paper-Scissors/rps/train/paper/paper_4.jpg\n",
            "Renamed /content/gdrive/My Drive/dsai-2024/MVPS/Camp-Rock-Paper-Scissors/rps/test/paper/temp_paper_00001.jpg to /content/gdrive/My Drive/dsai-2024/MVPS/Camp-Rock-Paper-Scissors/rps/test/paper/paper_1.jpg\n",
            "Renamed /content/gdrive/My Drive/dsai-2024/MVPS/Camp-Rock-Paper-Scissors/rps/test/paper/temp_paper_00002.jpg to /content/gdrive/My Drive/dsai-2024/MVPS/Camp-Rock-Paper-Scissors/rps/test/paper/paper_2.jpg\n",
            "Renamed /content/gdrive/My Drive/dsai-2024/MVPS/Camp-Rock-Paper-Scissors/rps/test/paper/temp_paper_00003.jpg to /content/gdrive/My Drive/dsai-2024/MVPS/Camp-Rock-Paper-Scissors/rps/test/paper/paper_3.jpg\n",
            "Renamed /content/gdrive/My Drive/dsai-2024/MVPS/Camp-Rock-Paper-Scissors/rps/test/paper/temp_paper_00004.jpg to /content/gdrive/My Drive/dsai-2024/MVPS/Camp-Rock-Paper-Scissors/rps/test/paper/paper_4.jpg\n",
            "Renamed /content/gdrive/My Drive/dsai-2024/MVPS/Camp-Rock-Paper-Scissors/rps/train/scissors/temp_scissors_00001.jpg to /content/gdrive/My Drive/dsai-2024/MVPS/Camp-Rock-Paper-Scissors/rps/train/scissors/scissors_1.jpg\n",
            "Renamed /content/gdrive/My Drive/dsai-2024/MVPS/Camp-Rock-Paper-Scissors/rps/train/scissors/temp_scissors_00002.jpg to /content/gdrive/My Drive/dsai-2024/MVPS/Camp-Rock-Paper-Scissors/rps/train/scissors/scissors_2.jpg\n",
            "Renamed /content/gdrive/My Drive/dsai-2024/MVPS/Camp-Rock-Paper-Scissors/rps/train/scissors/temp_scissors_00003.jpg to /content/gdrive/My Drive/dsai-2024/MVPS/Camp-Rock-Paper-Scissors/rps/train/scissors/scissors_3.jpg\n",
            "Renamed /content/gdrive/My Drive/dsai-2024/MVPS/Camp-Rock-Paper-Scissors/rps/train/scissors/temp_scissors_00004.jpg to /content/gdrive/My Drive/dsai-2024/MVPS/Camp-Rock-Paper-Scissors/rps/train/scissors/scissors_4.jpg\n",
            "Renamed /content/gdrive/My Drive/dsai-2024/MVPS/Camp-Rock-Paper-Scissors/rps/test/scissors/temp_scissors_00001.jpg to /content/gdrive/My Drive/dsai-2024/MVPS/Camp-Rock-Paper-Scissors/rps/test/scissors/scissors_1.jpg\n",
            "Renamed /content/gdrive/My Drive/dsai-2024/MVPS/Camp-Rock-Paper-Scissors/rps/test/scissors/temp_scissors_00002.jpg to /content/gdrive/My Drive/dsai-2024/MVPS/Camp-Rock-Paper-Scissors/rps/test/scissors/scissors_2.jpg\n",
            "Renamed /content/gdrive/My Drive/dsai-2024/MVPS/Camp-Rock-Paper-Scissors/rps/test/scissors/temp_scissors_00003.jpg to /content/gdrive/My Drive/dsai-2024/MVPS/Camp-Rock-Paper-Scissors/rps/test/scissors/scissors_3.jpg\n",
            "Renamed /content/gdrive/My Drive/dsai-2024/MVPS/Camp-Rock-Paper-Scissors/rps/test/scissors/temp_scissors_00004.jpg to /content/gdrive/My Drive/dsai-2024/MVPS/Camp-Rock-Paper-Scissors/rps/test/scissors/scissors_4.jpg\n"
          ]
        }
      ],
      "source": [
        "import os\n",
        "\n",
        "def renumber_images(base_path):\n",
        "    categories = ['rock', 'paper', 'scissors']\n",
        "    for category in categories:\n",
        "        # Renumber images in the train folder\n",
        "        train_path = os.path.join(base_path, 'train', category)\n",
        "        renumber_folder(train_path, category)\n",
        "\n",
        "        # Renumber images in the test folder\n",
        "        test_path = os.path.join(base_path, 'test', category)\n",
        "        renumber_folder(test_path, category)\n",
        "\n",
        "def renumber_folder(folder_path, class_name):\n",
        "    if not os.path.exists(folder_path):\n",
        "        print(f\"Folder not found: {folder_path}\")\n",
        "        return\n",
        "\n",
        "    files = [f for f in os.listdir(folder_path) if os.path.isfile(os.path.join(folder_path, f))]\n",
        "    files.sort()  # Sort to maintain a consistent order\n",
        "\n",
        "    # Rename files to a temporary name to avoid conflicts\n",
        "    temp_files = []\n",
        "    for idx, filename in enumerate(files, start=1):\n",
        "        file_path = os.path.join(folder_path, filename)\n",
        "        temp_filename = f\"temp_{class_name}_{idx:05d}.jpg\"\n",
        "        temp_file_path = os.path.join(folder_path, temp_filename)\n",
        "        os.rename(file_path, temp_file_path)\n",
        "        temp_files.append(temp_filename)\n",
        "\n",
        "    # Then, rename temporary files to the final name\n",
        "    for idx, temp_filename in enumerate(temp_files, start=1):\n",
        "        temp_file_path = os.path.join(folder_path, temp_filename)\n",
        "        new_filename = f\"{class_name}_{idx}.jpg\"\n",
        "        new_file_path = os.path.join(folder_path, new_filename)\n",
        "        os.rename(temp_file_path, new_file_path)\n",
        "        print(f\"Renamed {temp_file_path} to {new_file_path}\")\n",
        "\n",
        "# Path to your dataset\n",
        "renumber_images(rps_dir)"
      ]
    },
    {
      "cell_type": "markdown",
      "metadata": {
        "id": "UmUdWOGTaWSb"
      },
      "source": [
        "**Test manipulating images** - Preview of what should happen later in experiments"
      ]
    },
    {
      "cell_type": "code",
      "execution_count": null,
      "metadata": {
        "colab": {
          "base_uri": "https://localhost:8080/"
        },
        "id": "LdV1n845SZSI",
        "outputId": "49d82d31-cdd6-4f17-b840-62dce38eae6a"
      },
      "outputs": [
        {
          "output_type": "stream",
          "name": "stdout",
          "text": [
            "Number of training images: 12\n",
            "Number of testing images: 12\n"
          ]
        }
      ],
      "source": [
        "# Get the number of training images\n",
        "num_train_images = train_generator.samples\n",
        "print(f\"Number of training images: {num_train_images}\")\n",
        "\n",
        "# Get the number of testing images\n",
        "num_test_images = test_generator.samples\n",
        "print(f\"Number of testing images: {num_test_images}\")"
      ]
    },
    {
      "cell_type": "code",
      "execution_count": null,
      "metadata": {
        "colab": {
          "base_uri": "https://localhost:8080/"
        },
        "id": "TRqYZBDbQnQI",
        "outputId": "40bccdcc-278c-438b-f59d-4f7244800283"
      },
      "outputs": [
        {
          "output_type": "stream",
          "name": "stdout",
          "text": [
            "Found 12 images belonging to 3 classes.\n",
            "Found 12 images belonging to 3 classes.\n"
          ]
        }
      ],
      "source": [
        "from tensorflow.keras.preprocessing.image import ImageDataGenerator\n",
        "# Define a custom preprocessing function to ensure uniform image sizes and shapes\n",
        "def make_square_and_resize(image):\n",
        "    \"\"\"Pad an image to make it square and resize it to (224, 224).\"\"\"\n",
        "    target_size = (224, 224)\n",
        "    height, width = image.shape[:2]\n",
        "    delta_w = max(height - width, 0)\n",
        "    delta_h = max(width - height, 0)\n",
        "    top, bottom = delta_h // 2, delta_h - (delta_h // 2)\n",
        "    left, right = delta_w // 2, delta_w - (delta_w // 2)\n",
        "    color = [255, 255, 255]  # white background for padding\n",
        "    new_img = cv2.copyMakeBorder(image, top, bottom, left, right, cv2.BORDER_CONSTANT, value=color)\n",
        "    new_img = cv2.resize(new_img, target_size)\n",
        "    return new_img\n",
        "\n",
        "# Prepare image data generators with real-time augmentation and custom preprocessing\n",
        "train_datagen = ImageDataGenerator(\n",
        "    rescale=1./255,\n",
        "    rotation_range=20,\n",
        "    width_shift_range=0.2,\n",
        "    height_shift_range=0.2,\n",
        "    shear_range=0.2,\n",
        "    zoom_range=0.2,\n",
        "    horizontal_flip=True,\n",
        "    fill_mode='nearest',\n",
        "    preprocessing_function=make_square_and_resize\n",
        ")\n",
        "test_datagen = ImageDataGenerator(rescale=1./255, preprocessing_function=make_square_and_resize)\n",
        "\n",
        "# Load images from directories and prepare them for training and validation\n",
        "train_generator = train_datagen.flow_from_directory(train_dir, target_size=(224, 224), batch_size=32, class_mode='categorical')\n",
        "test_generator = test_datagen.flow_from_directory(test_dir, target_size=(224, 224), batch_size=32, class_mode='categorical')\n",
        "\n"
      ]
    }
  ],
  "metadata": {
    "colab": {
      "gpuType": "T4",
      "provenance": [],
      "include_colab_link": true
    },
    "kernelspec": {
      "display_name": "Python 3",
      "name": "python3"
    },
    "language_info": {
      "name": "python"
    }
  },
  "nbformat": 4,
  "nbformat_minor": 0
}