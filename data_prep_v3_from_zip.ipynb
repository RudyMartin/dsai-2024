{
  "cells": [
    {
      "cell_type": "markdown",
      "metadata": {
        "id": "view-in-github",
        "colab_type": "text"
      },
      "source": [
        "<a href=\"https://colab.research.google.com/github/RudyMartin/dsai-2024/blob/main/data_prep_v3_from_zip.ipynb\" target=\"_parent\"><img src=\"https://colab.research.google.com/assets/colab-badge.svg\" alt=\"Open In Colab\"/></a>"
      ]
    },
    {
      "cell_type": "markdown",
      "source": [
        "# Data Prep for Zipped Files"
      ],
      "metadata": {
        "id": "De62ks5wdg56"
      }
    },
    {
      "cell_type": "code",
      "execution_count": 19,
      "metadata": {
        "colab": {
          "base_uri": "https://localhost:8080/"
        },
        "id": "SJ66qokg_cav",
        "outputId": "0655d43d-1bc3-4a38-ba72-ab08abeaaec5"
      },
      "outputs": [
        {
          "output_type": "stream",
          "name": "stdout",
          "text": [
            "shell-init: error retrieving current directory: getcwd: cannot access parent directories: Transport endpoint is not connected\n",
            "Mounted at /content/gdrive\n",
            "\u001b[0m\u001b[01;34mcolab_setup\u001b[0m/  \u001b[01;34mmodel_init\u001b[0m/  README.MD  rps_114.zip  rps_60.zip  rps_660.zip  rps-rudy.zip\n",
            "\u001b[01;34mdata_prep\u001b[0m/    \u001b[01;34mmodel_tune\u001b[0m/  \u001b[01;34mrps\u001b[0m/       \u001b[01;34mrps_60\u001b[0m/      \u001b[01;34mrps_660\u001b[0m/    \u001b[01;34mrps-rudy\u001b[0m/    rps.zip\n"
          ]
        }
      ],
      "source": [
        "### Name Project folder\n",
        "import os\n",
        "from google.colab import drive\n",
        "import datetime\n",
        "\n",
        "# Record the start time for performance evaluation\n",
        "start_time = datetime.datetime.now()\n",
        "\n",
        "\n",
        "drive.flush_and_unmount()\n",
        "!rm -rf /tmp/*\n",
        "\n",
        "drive.mount(\"/content/gdrive\", force_remount=True)\n",
        "root_dir = \"/content/gdrive/My Drive/dsai-2024/MVPS\"\n",
        "proj_dir = os.path.join(root_dir, 'Camp-Rock-Paper-Scissors')\n",
        "os.chdir('/content/gdrive/My Drive/dsai-2024/MVPS/Camp-Rock-Paper-Scissors')\n",
        "\n",
        "rps_dir = os.path.join(proj_dir, 'rps-rudy') # this points to data folder\n",
        "train_dir = os.path.join(rps_dir, 'train')\n",
        "test_dir = os.path.join(rps_dir, 'test')\n",
        "model_dir = os.path.join(root_dir, 'model')\n",
        "\n",
        "# Define and create directories for rps\n",
        "for dir in ['train', 'test', 'model']:\n",
        "    os.makedirs(os.path.join(rps_dir, dir), exist_ok=True)\n",
        "\n",
        "# Define and create subdirectories for train and test\n",
        "for sub_dir in ['rock', 'paper', 'scissors']:\n",
        "    os.makedirs(os.path.join(train_dir, sub_dir), exist_ok=True)\n",
        "    os.makedirs(os.path.join(test_dir, sub_dir), exist_ok=True)\n",
        "\n",
        "## Look at the current directory\n",
        "%ls"
      ]
    },
    {
      "cell_type": "code",
      "source": [
        "os.chdir('/content/gdrive/My Drive/dsai-2024/MVPS/Camp-Rock-Paper-Scissors')\n",
        "#!unzip -o rps-rudy.zip # use this only when you use zip files or just skip thi"
      ],
      "metadata": {
        "id": "Xuujl3CWhiVj"
      },
      "execution_count": 27,
      "outputs": []
    },
    {
      "cell_type": "code",
      "execution_count": 28,
      "metadata": {
        "colab": {
          "base_uri": "https://localhost:8080/"
        },
        "id": "kA7KUIxhM72E",
        "outputId": "d3655fca-66a1-4ac8-f846-da23dd0efee2"
      },
      "outputs": [
        {
          "output_type": "stream",
          "name": "stdout",
          "text": [
            "'rps' directory contents: ['train', 'test', 'model', '.DS_Store']\n"
          ]
        }
      ],
      "source": [
        "# Ensure the data directory exists\n",
        "if not os.path.exists(rps_dir):\n",
        "    raise FileNotFoundError(f\"Directory {rps_dir} does not exist.\")\n",
        "print(f\"'rps' directory contents: {os.listdir(rps_dir)}\")"
      ]
    },
    {
      "cell_type": "markdown",
      "metadata": {
        "id": "8ug7C86rPlCP"
      },
      "source": [
        "To uphold principle of fairness and simplify machine learning process, all images need to be converted into same file format (.jpg) and same resolution. Please run the cell below to convert the files to common format.\n",
        "\n",
        "Participants are also encouraged to manually edit the pictures, using tips above, to improve accuracy of their learning algorithm."
      ]
    },
    {
      "cell_type": "code",
      "execution_count": 22,
      "metadata": {
        "colab": {
          "base_uri": "https://localhost:8080/"
        },
        "id": "IST58FcLR74A",
        "outputId": "abb2277f-9b2b-4d02-991c-cb1337c2ad41"
      },
      "outputs": [
        {
          "output_type": "stream",
          "name": "stdout",
          "text": [
            "Train directory: /content/gdrive/My Drive/dsai-2024/MVPS/Camp-Rock-Paper-Scissors/rps-rudy/train\n",
            "Test directory: /content/gdrive/My Drive/dsai-2024/MVPS/Camp-Rock-Paper-Scissors/rps-rudy/test\n",
            "Number of train scissors images: 4\n",
            "Number of train rock images: 4\n",
            "Number of train paper images: 4\n",
            "Number of test scissors images: 4\n",
            "Number of test rock images: 4\n",
            "Number of test paper images: 4\n"
          ]
        }
      ],
      "source": [
        "# Load training data\n",
        "import glob\n",
        "\n",
        "print(f\"Train directory: {train_dir}\")\n",
        "print(f\"Test directory: {test_dir}\")\n",
        "\n",
        "print(f\"Number of train scissors images: {len(glob.glob(f'{train_dir}/paper/*.jpg'))}\")\n",
        "print(f\"Number of train rock images: {len(glob.glob(f'{train_dir}/rock/*.jpg'))}\")\n",
        "print(f\"Number of train paper images: {len(glob.glob(f'{train_dir}/paper/*.jpg'))}\")\n",
        "\n",
        "print(f\"Number of test scissors images: {len(glob.glob(f'{test_dir}/paper/*.jpg'))}\")\n",
        "print(f\"Number of test rock images: {len(glob.glob(f'{test_dir}/rock/*.jpg'))}\")\n",
        "print(f\"Number of test paper images: {len(glob.glob(f'{test_dir}/paper/*.jpg'))}\")\n",
        "\n",
        "## ORIGINAL PHOTOS DO NOT HAVE EXTENSION NAMES SO WILL NOT BE COUNTED (OK ZER) - BUT CHECK VISUALLY"
      ]
    },
    {
      "cell_type": "markdown",
      "metadata": {
        "id": "fhdJbLcDPDLn"
      },
      "source": [
        "Converts code and renames bad files with starting 'z' name."
      ]
    },
    {
      "cell_type": "code",
      "execution_count": 23,
      "metadata": {
        "colab": {
          "base_uri": "https://localhost:8080/"
        },
        "id": "D2_ylBEyMBvU",
        "outputId": "ca275f9d-45b3-48d4-d734-474e0e5737aa"
      },
      "outputs": [
        {
          "output_type": "stream",
          "name": "stdout",
          "text": [
            "Successfully Resized rock_4.jpg and saved as rock_4.jpg\n",
            "Successfully Resized rock_1.jpg and saved as rock_1.jpg\n",
            "Successfully Resized rock_2.jpg and saved as rock_2.jpg\n",
            "Successfully Resized rock_3.jpg and saved as rock_3.jpg\n",
            "Successfully Resized paper_4.jpg and saved as paper_4.jpg\n",
            "Successfully Resized paper_3.jpg and saved as paper_3.jpg\n",
            "Successfully Resized paper_2.jpg and saved as paper_2.jpg\n",
            "Successfully Resized paper_1.jpg and saved as paper_1.jpg\n",
            "Successfully Resized scissors_2.jpg and saved as scissors_2.jpg\n",
            "Successfully Resized scissors_3.jpg and saved as scissors_3.jpg\n",
            "Successfully Resized scissors_1.jpg and saved as scissors_1.jpg\n",
            "Successfully Resized scissors_4.jpg and saved as scissors_4.jpg\n",
            "Successfully Resized rock_4.jpg and saved as rock_4.jpg\n",
            "Successfully Resized rock_1.jpg and saved as rock_1.jpg\n",
            "Successfully Resized rock_2.jpg and saved as rock_2.jpg\n",
            "Successfully Resized rock_3.jpg and saved as rock_3.jpg\n",
            "Successfully Resized paper_4.jpg and saved as paper_4.jpg\n",
            "Successfully Resized paper_3.jpg and saved as paper_3.jpg\n",
            "Successfully Resized paper_2.jpg and saved as paper_2.jpg\n",
            "Successfully Resized paper_1.jpg and saved as paper_1.jpg\n",
            "Successfully Resized scissors_2.jpg and saved as scissors_2.jpg\n",
            "Successfully Resized scissors_3.jpg and saved as scissors_3.jpg\n",
            "Successfully Resized scissors_1.jpg and saved as scissors_1.jpg\n",
            "Successfully Resized scissors_4.jpg and saved as scissors_4.jpg\n"
          ]
        }
      ],
      "source": [
        "from os import listdir, rename\n",
        "from os.path import isfile, join\n",
        "from PIL import Image\n",
        "from os.path import splitext\n",
        "\n",
        "def process_images(proj_path):\n",
        "    for label in ['rock', 'paper', 'scissors']:\n",
        "        for i in [f for f in listdir(join(proj_path, label)) if isfile(join(proj_path, label, f))]:\n",
        "            file_path = join(proj_path, label, i)\n",
        "            file_name, file_ext = splitext(i)\n",
        "\n",
        "            try:\n",
        "                im = Image.open(file_path)\n",
        "                im = im.resize((640, 480))\n",
        "\n",
        "                if file_ext.lower() in ['.png', '.jpeg']:\n",
        "                    # Convert RGBA to RGB if the image has an alpha channel\n",
        "                    if im.mode == 'RGBA':\n",
        "                        im = im.convert('RGB')\n",
        "                    new_file_path = join(proj_path, label, f\"{file_name}.jpg\")\n",
        "                    im.save(new_file_path, 'jpeg')\n",
        "                    print(f\"Successfully Converted {i} to {file_name}.jpg\")\n",
        "                    # Optionally, remove the original file\n",
        "                    # os.remove(file_path)\n",
        "                else:\n",
        "                    new_file_path = join(proj_path, label, f\"{file_name}.jpg\")\n",
        "                    im.save(new_file_path, 'jpeg')\n",
        "                    print(f\"Successfully Resized {i} and saved as {file_name}.jpg\")\n",
        "\n",
        "            except Exception as e:\n",
        "                print(f\"Error processing file {i} at {file_path}: {e}\")\n",
        "                # Rename the problematic file with 'z_' prefix\n",
        "                new_file_path = join(proj_path, label, f\"z_{i}\")\n",
        "                rename(file_path, new_file_path)\n",
        "                print(f\"Renamed problematic file {i} to z_{i}\")\n",
        "\n",
        "# Example usage:\n",
        "\n",
        "process_images(test_dir)\n",
        "\n",
        "process_images(train_dir)"
      ]
    },
    {
      "cell_type": "markdown",
      "metadata": {
        "id": "fgoGbPWggXqQ"
      },
      "source": [
        "ONLY AFTER REVIEWING AND DELETING FILES - Then RENAME, REORDER remaining files to jpg - Wait 1-2 minutes between running this and prior section to be sure the Z files are no longer in folder."
      ]
    },
    {
      "cell_type": "code",
      "execution_count": 24,
      "metadata": {
        "colab": {
          "base_uri": "https://localhost:8080/"
        },
        "id": "66mdVy8YPJNL",
        "outputId": "951f99e8-33e0-4308-8ea2-c72cf6de42ed"
      },
      "outputs": [
        {
          "output_type": "stream",
          "name": "stdout",
          "text": [
            "Renamed /content/gdrive/My Drive/dsai-2024/MVPS/Camp-Rock-Paper-Scissors/rps-rudy/train/rock/temp_rock_00001.jpg to /content/gdrive/My Drive/dsai-2024/MVPS/Camp-Rock-Paper-Scissors/rps-rudy/train/rock/rock_1.jpg\n",
            "Renamed /content/gdrive/My Drive/dsai-2024/MVPS/Camp-Rock-Paper-Scissors/rps-rudy/train/rock/temp_rock_00002.jpg to /content/gdrive/My Drive/dsai-2024/MVPS/Camp-Rock-Paper-Scissors/rps-rudy/train/rock/rock_2.jpg\n",
            "Renamed /content/gdrive/My Drive/dsai-2024/MVPS/Camp-Rock-Paper-Scissors/rps-rudy/train/rock/temp_rock_00003.jpg to /content/gdrive/My Drive/dsai-2024/MVPS/Camp-Rock-Paper-Scissors/rps-rudy/train/rock/rock_3.jpg\n",
            "Renamed /content/gdrive/My Drive/dsai-2024/MVPS/Camp-Rock-Paper-Scissors/rps-rudy/train/rock/temp_rock_00004.jpg to /content/gdrive/My Drive/dsai-2024/MVPS/Camp-Rock-Paper-Scissors/rps-rudy/train/rock/rock_4.jpg\n",
            "Renamed /content/gdrive/My Drive/dsai-2024/MVPS/Camp-Rock-Paper-Scissors/rps-rudy/test/rock/temp_rock_00001.jpg to /content/gdrive/My Drive/dsai-2024/MVPS/Camp-Rock-Paper-Scissors/rps-rudy/test/rock/rock_1.jpg\n",
            "Renamed /content/gdrive/My Drive/dsai-2024/MVPS/Camp-Rock-Paper-Scissors/rps-rudy/test/rock/temp_rock_00002.jpg to /content/gdrive/My Drive/dsai-2024/MVPS/Camp-Rock-Paper-Scissors/rps-rudy/test/rock/rock_2.jpg\n",
            "Renamed /content/gdrive/My Drive/dsai-2024/MVPS/Camp-Rock-Paper-Scissors/rps-rudy/test/rock/temp_rock_00003.jpg to /content/gdrive/My Drive/dsai-2024/MVPS/Camp-Rock-Paper-Scissors/rps-rudy/test/rock/rock_3.jpg\n",
            "Renamed /content/gdrive/My Drive/dsai-2024/MVPS/Camp-Rock-Paper-Scissors/rps-rudy/test/rock/temp_rock_00004.jpg to /content/gdrive/My Drive/dsai-2024/MVPS/Camp-Rock-Paper-Scissors/rps-rudy/test/rock/rock_4.jpg\n",
            "Renamed /content/gdrive/My Drive/dsai-2024/MVPS/Camp-Rock-Paper-Scissors/rps-rudy/train/paper/temp_paper_00001.jpg to /content/gdrive/My Drive/dsai-2024/MVPS/Camp-Rock-Paper-Scissors/rps-rudy/train/paper/paper_1.jpg\n",
            "Renamed /content/gdrive/My Drive/dsai-2024/MVPS/Camp-Rock-Paper-Scissors/rps-rudy/train/paper/temp_paper_00002.jpg to /content/gdrive/My Drive/dsai-2024/MVPS/Camp-Rock-Paper-Scissors/rps-rudy/train/paper/paper_2.jpg\n",
            "Renamed /content/gdrive/My Drive/dsai-2024/MVPS/Camp-Rock-Paper-Scissors/rps-rudy/train/paper/temp_paper_00003.jpg to /content/gdrive/My Drive/dsai-2024/MVPS/Camp-Rock-Paper-Scissors/rps-rudy/train/paper/paper_3.jpg\n",
            "Renamed /content/gdrive/My Drive/dsai-2024/MVPS/Camp-Rock-Paper-Scissors/rps-rudy/train/paper/temp_paper_00004.jpg to /content/gdrive/My Drive/dsai-2024/MVPS/Camp-Rock-Paper-Scissors/rps-rudy/train/paper/paper_4.jpg\n",
            "Renamed /content/gdrive/My Drive/dsai-2024/MVPS/Camp-Rock-Paper-Scissors/rps-rudy/test/paper/temp_paper_00001.jpg to /content/gdrive/My Drive/dsai-2024/MVPS/Camp-Rock-Paper-Scissors/rps-rudy/test/paper/paper_1.jpg\n",
            "Renamed /content/gdrive/My Drive/dsai-2024/MVPS/Camp-Rock-Paper-Scissors/rps-rudy/test/paper/temp_paper_00002.jpg to /content/gdrive/My Drive/dsai-2024/MVPS/Camp-Rock-Paper-Scissors/rps-rudy/test/paper/paper_2.jpg\n",
            "Renamed /content/gdrive/My Drive/dsai-2024/MVPS/Camp-Rock-Paper-Scissors/rps-rudy/test/paper/temp_paper_00003.jpg to /content/gdrive/My Drive/dsai-2024/MVPS/Camp-Rock-Paper-Scissors/rps-rudy/test/paper/paper_3.jpg\n",
            "Renamed /content/gdrive/My Drive/dsai-2024/MVPS/Camp-Rock-Paper-Scissors/rps-rudy/test/paper/temp_paper_00004.jpg to /content/gdrive/My Drive/dsai-2024/MVPS/Camp-Rock-Paper-Scissors/rps-rudy/test/paper/paper_4.jpg\n",
            "Renamed /content/gdrive/My Drive/dsai-2024/MVPS/Camp-Rock-Paper-Scissors/rps-rudy/train/scissors/temp_scissors_00001.jpg to /content/gdrive/My Drive/dsai-2024/MVPS/Camp-Rock-Paper-Scissors/rps-rudy/train/scissors/scissors_1.jpg\n",
            "Renamed /content/gdrive/My Drive/dsai-2024/MVPS/Camp-Rock-Paper-Scissors/rps-rudy/train/scissors/temp_scissors_00002.jpg to /content/gdrive/My Drive/dsai-2024/MVPS/Camp-Rock-Paper-Scissors/rps-rudy/train/scissors/scissors_2.jpg\n",
            "Renamed /content/gdrive/My Drive/dsai-2024/MVPS/Camp-Rock-Paper-Scissors/rps-rudy/train/scissors/temp_scissors_00003.jpg to /content/gdrive/My Drive/dsai-2024/MVPS/Camp-Rock-Paper-Scissors/rps-rudy/train/scissors/scissors_3.jpg\n",
            "Renamed /content/gdrive/My Drive/dsai-2024/MVPS/Camp-Rock-Paper-Scissors/rps-rudy/train/scissors/temp_scissors_00004.jpg to /content/gdrive/My Drive/dsai-2024/MVPS/Camp-Rock-Paper-Scissors/rps-rudy/train/scissors/scissors_4.jpg\n",
            "Renamed /content/gdrive/My Drive/dsai-2024/MVPS/Camp-Rock-Paper-Scissors/rps-rudy/test/scissors/temp_scissors_00001.jpg to /content/gdrive/My Drive/dsai-2024/MVPS/Camp-Rock-Paper-Scissors/rps-rudy/test/scissors/scissors_1.jpg\n",
            "Renamed /content/gdrive/My Drive/dsai-2024/MVPS/Camp-Rock-Paper-Scissors/rps-rudy/test/scissors/temp_scissors_00002.jpg to /content/gdrive/My Drive/dsai-2024/MVPS/Camp-Rock-Paper-Scissors/rps-rudy/test/scissors/scissors_2.jpg\n",
            "Renamed /content/gdrive/My Drive/dsai-2024/MVPS/Camp-Rock-Paper-Scissors/rps-rudy/test/scissors/temp_scissors_00003.jpg to /content/gdrive/My Drive/dsai-2024/MVPS/Camp-Rock-Paper-Scissors/rps-rudy/test/scissors/scissors_3.jpg\n",
            "Renamed /content/gdrive/My Drive/dsai-2024/MVPS/Camp-Rock-Paper-Scissors/rps-rudy/test/scissors/temp_scissors_00004.jpg to /content/gdrive/My Drive/dsai-2024/MVPS/Camp-Rock-Paper-Scissors/rps-rudy/test/scissors/scissors_4.jpg\n"
          ]
        }
      ],
      "source": [
        "import os\n",
        "\n",
        "def renumber_images(base_path):\n",
        "    categories = ['rock', 'paper', 'scissors']\n",
        "    for category in categories:\n",
        "        # Renumber images in the train folder\n",
        "        train_path = os.path.join(base_path, 'train', category)\n",
        "        renumber_folder(train_path, category)\n",
        "\n",
        "        # Renumber images in the test folder\n",
        "        test_path = os.path.join(base_path, 'test', category)\n",
        "        renumber_folder(test_path, category)\n",
        "\n",
        "def renumber_folder(folder_path, class_name):\n",
        "    if not os.path.exists(folder_path):\n",
        "        print(f\"Folder not found: {folder_path}\")\n",
        "        return\n",
        "\n",
        "    files = [f for f in os.listdir(folder_path) if os.path.isfile(os.path.join(folder_path, f))]\n",
        "    files.sort()  # Sort to maintain a consistent order\n",
        "\n",
        "    # Rename files to a temporary name to avoid conflicts\n",
        "    temp_files = []\n",
        "    for idx, filename in enumerate(files, start=1):\n",
        "        file_path = os.path.join(folder_path, filename)\n",
        "        temp_filename = f\"temp_{class_name}_{idx:05d}.jpg\"\n",
        "        temp_file_path = os.path.join(folder_path, temp_filename)\n",
        "        os.rename(file_path, temp_file_path)\n",
        "        temp_files.append(temp_filename)\n",
        "\n",
        "    # Then, rename temporary files to the final name\n",
        "    for idx, temp_filename in enumerate(temp_files, start=1):\n",
        "        temp_file_path = os.path.join(folder_path, temp_filename)\n",
        "        new_filename = f\"{class_name}_{idx}.jpg\"\n",
        "        new_file_path = os.path.join(folder_path, new_filename)\n",
        "        os.rename(temp_file_path, new_file_path)\n",
        "        print(f\"Renamed {temp_file_path} to {new_file_path}\")\n",
        "\n",
        "# Path to your dataset\n",
        "renumber_images(rps_dir)"
      ]
    },
    {
      "cell_type": "markdown",
      "metadata": {
        "id": "UmUdWOGTaWSb"
      },
      "source": [
        "**Test manipulating images** - Preview of what should happen later in experiments"
      ]
    },
    {
      "cell_type": "code",
      "execution_count": 26,
      "metadata": {
        "colab": {
          "base_uri": "https://localhost:8080/"
        },
        "id": "LdV1n845SZSI",
        "outputId": "a90a4d49-8736-4ca9-ab22-ec3ed65c8538"
      },
      "outputs": [
        {
          "output_type": "stream",
          "name": "stdout",
          "text": [
            "Number of training images: 12\n",
            "Number of testing images: 12\n"
          ]
        }
      ],
      "source": [
        "# Get the number of training images\n",
        "num_train_images = train_generator.samples\n",
        "print(f\"Number of training images: {num_train_images}\")\n",
        "\n",
        "# Get the number of testing images\n",
        "num_test_images = test_generator.samples\n",
        "print(f\"Number of testing images: {num_test_images}\")"
      ]
    },
    {
      "cell_type": "code",
      "execution_count": 25,
      "metadata": {
        "colab": {
          "base_uri": "https://localhost:8080/"
        },
        "id": "TRqYZBDbQnQI",
        "outputId": "49ef8600-6f72-43da-c751-ceaebd964ba5"
      },
      "outputs": [
        {
          "output_type": "stream",
          "name": "stdout",
          "text": [
            "Found 12 images belonging to 3 classes.\n",
            "Found 12 images belonging to 3 classes.\n"
          ]
        }
      ],
      "source": [
        "from tensorflow.keras.preprocessing.image import ImageDataGenerator\n",
        "# Define a custom preprocessing function to ensure uniform image sizes and shapes\n",
        "def make_square_and_resize(image):\n",
        "    \"\"\"Pad an image to make it square and resize it to (224, 224).\"\"\"\n",
        "    target_size = (224, 224)\n",
        "    height, width = image.shape[:2]\n",
        "    delta_w = max(height - width, 0)\n",
        "    delta_h = max(width - height, 0)\n",
        "    top, bottom = delta_h // 2, delta_h - (delta_h // 2)\n",
        "    left, right = delta_w // 2, delta_w - (delta_w // 2)\n",
        "    color = [255, 255, 255]  # white background for padding\n",
        "    new_img = cv2.copyMakeBorder(image, top, bottom, left, right, cv2.BORDER_CONSTANT, value=color)\n",
        "    new_img = cv2.resize(new_img, target_size)\n",
        "    return new_img\n",
        "\n",
        "# Prepare image data generators with real-time augmentation and custom preprocessing\n",
        "train_datagen = ImageDataGenerator(\n",
        "    rescale=1./255,\n",
        "    rotation_range=20,\n",
        "    width_shift_range=0.2,\n",
        "    height_shift_range=0.2,\n",
        "    shear_range=0.2,\n",
        "    zoom_range=0.2,\n",
        "    horizontal_flip=True,\n",
        "    fill_mode='nearest',\n",
        "    preprocessing_function=make_square_and_resize\n",
        ")\n",
        "test_datagen = ImageDataGenerator(rescale=1./255, preprocessing_function=make_square_and_resize)\n",
        "\n",
        "# Load images from directories and prepare them for training and validation\n",
        "train_generator = train_datagen.flow_from_directory(train_dir, target_size=(224, 224), batch_size=32, class_mode='categorical')\n",
        "test_generator = test_datagen.flow_from_directory(test_dir, target_size=(224, 224), batch_size=32, class_mode='categorical')\n",
        "\n"
      ]
    }
  ],
  "metadata": {
    "colab": {
      "gpuType": "T4",
      "provenance": [],
      "include_colab_link": true
    },
    "kernelspec": {
      "display_name": "Python 3",
      "name": "python3"
    },
    "language_info": {
      "name": "python"
    }
  },
  "nbformat": 4,
  "nbformat_minor": 0
}